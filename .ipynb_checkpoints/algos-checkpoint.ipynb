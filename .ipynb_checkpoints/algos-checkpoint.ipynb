{
 "cells": [
  {
   "cell_type": "markdown",
   "metadata": {},
   "source": [
    "Algorithms:<br>\n",
    "1. Buy low sell high algorithm"
   ]
  },
  {
   "cell_type": "markdown",
   "metadata": {},
   "source": [
    "\t-allow window for no trading between first 30min and last 30 minutes of the trading day<br>\n",
    "\t-needs to set what price the stock was bought at<br>\n",
    "\t-needs to sell right before hitting this price<br>\n",
    "\t-needs to sell 10% above what the stock was bought at (rough guess)<br>\n",
    "\t-3 variables: buy price, stop loss price, profit price = buy price + 10%<br>\n",
    "<br>\n",
    "      -Sell stocks at EOD"
   ]
  },
  {
   "cell_type": "code",
   "execution_count": 1,
   "metadata": {},
   "outputs": [
    {
     "data": {
      "text/plain": [
       "True"
      ]
     },
     "execution_count": 1,
     "metadata": {},
     "output_type": "execute_result"
    }
   ],
   "source": [
    "from dotenv import load_dotenv\n",
    "from datetime import datetime\n",
    "load_dotenv()"
   ]
  },
  {
   "cell_type": "markdown",
   "metadata": {},
   "source": [
    "tock states<br>\n",
    "Unbought<br>\n",
    "Bought, hasnt met thresholdawd<br>\n",
    "Bought, crossed threshold"
   ]
  },
  {
   "cell_type": "code",
   "execution_count": 15,
   "metadata": {},
   "outputs": [],
   "source": [
    "import matplotlib.pyplot as plt\n",
    "    \n",
    "class Stock:\n",
    "    def __init__(self, stockDict):\n",
    "        # set the input items as class members\n",
    "        for key, value in stockDict.items():\n",
    "            exec(\"self.\" + key + \" = value\")\n",
    "            \n",
    "        # reset stock history\n",
    "        self.history = []\n",
    "        self.historySmoothed = []\n",
    "        \n",
    "        # NONE\n",
    "        self.adaptiveSellFloor = None\n",
    "        self.buy()\n",
    "        self.update(stockDict)\n",
    "        \n",
    "        \n",
    "    def delete(self):\n",
    "        del dixonStocks[self.symbol]\n",
    "\n",
    "    def runFilter(self, adaptionInertia=0.8):\n",
    "        # LPF / moving average for Buy Floor\n",
    "        # only apply on upswing\n",
    "        if self.bid_price_float > self.adaptiveSellFloor:\n",
    "            self.adaptiveSellFloor = adaptionInertia*self.adaptiveSellFloor + self.bid_price_float * (1-adaptionInertia)\n",
    "        self.historySmoothed += [self.adaptiveSellFloor]\n",
    "        \n",
    "        \n",
    "        \n",
    "    def update(self, indict, adaptionInertia=0.8):\n",
    "        \n",
    "        for key, value in indict.items():\n",
    "            exec(\"self.\" + key + \" = value\")\n",
    "        print(\"updating \" + self.symbol)\n",
    "        self.bid_price_float = float(self.bid_price)\n",
    "        self.history += [self.bid_price_float]\n",
    "        \n",
    "        # calculate the ratio to the buy time\n",
    "        # ratioRelativeToBuy = float(self.bid_price) / float(self.buyPrice)\n",
    "        \n",
    "        # if the bid price falls below the floor, sell!\n",
    "        if self.bid_price_float < self.adaptiveSellFloor:\n",
    "            self.sell()\n",
    "            \n",
    "        self.runFilter()\n",
    "            \n",
    "\n",
    "    def graph(self):\n",
    "\n",
    "        # Create the figure and axes\n",
    "        fig, ax = plt.subplots()\n",
    "\n",
    "        # Plot the first array\n",
    "        ax.plot(self.historySmoothed, label='Smoothed')\n",
    "\n",
    "        # Plot the second array\n",
    "        ax.plot(self.history, label='Bid price')\n",
    "\n",
    "        # Set the title\n",
    "        ax.set_title('Stock History: ' + self.symbol)\n",
    "\n",
    "        # Set the legend\n",
    "        ax.legend()\n",
    "\n",
    "        # Display the plot\n",
    "        plt.show()\n",
    "\n",
    "    \n",
    "    def buy(self):\n",
    "        self.buyPrice = float(self.ask_price)\n",
    "        # set the adaptive sell floor to .9 of the buy price\n",
    "        # only on the buy\n",
    "        if self.adaptiveSellFloor is None:\n",
    "            self.adaptiveSellFloor = 0.9 * self.buyPrice\n",
    "        \n",
    "        print(\"--------------------------------\")\n",
    "        print(\"Buying \" + self.symbol)\n",
    "        print(\"Bought at \" + str(self.buyPrice))\n",
    "        print(\"Adaptive Sell Foor \" + str(self.adaptiveSellFloor))\n",
    "        print(\"--------------------------------\")\n",
    "        pass\n",
    "\n",
    "    def sell(self):\n",
    "        print(\"--------------------------------\")\n",
    "        print(\"Selling \" + self.symbol)\n",
    "        print(\"Bought at \" + str(self.buyPrice))\n",
    "        print(\"Sold at \" + str(self.bid_price))\n",
    "        print(\"YOUR $$$: \" + str(self.bid_price_float - self.buyPrice))\n",
    "        print(\"--------------------------------\")\n",
    "        self.delete()\n",
    "    \n",
    "    # Tolerence Map\n",
    "\n",
    "    #  \n",
    "    #\n",
    "    #   _________ buyPoint\n",
    "    #\n",
    "    #   _________ Adaptive sellFloor = LowPass Filter\n",
    "    #\n",
    "    #\n",
    "    # AdaptionInertia is a parameter that lets us adjust the tracking speed of the LPF / Moving average\\\n",
    "            "
   ]
  },
  {
   "cell_type": "code",
   "execution_count": 3,
   "metadata": {},
   "outputs": [],
   "source": [
    "dixonStocks = {}"
   ]
  },
  {
   "cell_type": "code",
   "execution_count": 4,
   "metadata": {},
   "outputs": [],
   "source": [
    "import requests"
   ]
  },
  {
   "cell_type": "code",
   "execution_count": 5,
   "metadata": {},
   "outputs": [],
   "source": [
    "def getRobinHoodTop100():\n",
    "\n",
    "    # Set up the API endpoint\n",
    "    endpoint = \"https://api.robinhood.com/marketdata/tops/\"\n",
    "\n",
    "    # Send the API request\n",
    "    response = requests.get(endpoint, params={\"limit\": 100})\n",
    "\n",
    "    # Check if the request was successful\n",
    "    if response.status_code == 200:\n",
    "        # Extract the data from the response\n",
    "        data = response.json()\n",
    "\n",
    "        # Process the data\n",
    "        if \"results\" in data:\n",
    "            top_stocks = data[\"results\"]\n",
    "            \n",
    "            # Print the top 100 stocks\n",
    "            for stock in top_stocks:\n",
    "                print(stock[\"symbol\"])\n",
    "    else:\n",
    "        print(\"Error occurred. Status code:\", response.status_code)"
   ]
  },
  {
   "cell_type": "code",
   "execution_count": null,
   "metadata": {},
   "outputs": [],
   "source": []
  },
  {
   "cell_type": "code",
   "execution_count": 6,
   "metadata": {},
   "outputs": [],
   "source": [
    "def BuyLowSellHigh(stockListOfDicts):\n",
    "    \n",
    "    for stockDict in stockListOfDicts:\n",
    "        stockSymbol = stockDict[\"symbol\"]\n",
    "        heldStockSymbols = dixonStocks.keys()\n",
    "        \n",
    "        # if we dont have the stock, buy it and add to dixonstocks\n",
    "        # stock will buy itself upon creation\n",
    "        if stockSymbol not in heldStockSymbols:\n",
    "            dixonStocks[stockSymbol] = Stock(stockDict)\n",
    "        # otherwise, run the update command, which may sell itself\n",
    "        else:\n",
    "            dixonStocks[stockSymbol].update(stockDict)\n",
    "            \n",
    "        "
   ]
  },
  {
   "cell_type": "markdown",
   "metadata": {},
   "source": [
    "mport robin_stocks.robinhood as rh<br>\n",
    "mport robin_stocks.gemini as gem<br>\n",
    "mport robin_stocks.tda as tda"
   ]
  },
  {
   "cell_type": "code",
   "execution_count": 7,
   "metadata": {},
   "outputs": [],
   "source": [
    "import robin_stocks.robinhood as rs\n",
    "import os"
   ]
  },
  {
   "cell_type": "code",
   "execution_count": 8,
   "metadata": {},
   "outputs": [
    {
     "data": {
      "text/plain": [
       "{'access_token': 'eyJhbGciOiJSUzI1NiIsInR5cCI6IkpXVCJ9.eyJkY3QiOjE2ODY1MTg1MTcsImRldmljZV9oYXNoIjoiYWU2ZThhZGJhNTA2MDlhNDQ3NDg1M2U0YWI1ODM2M2QiLCJleHAiOjE2ODY5MzgzNDEsImxldmVsMl9hY2Nlc3MiOmZhbHNlLCJtZXRhIjp7Im9pZCI6ImM4MlNIMFdaT3NhYk9YR1Ayc3hxY2ozNEZ4a3ZmbldSWkJLbEJqRlMiLCJvbiI6IlJvYmluaG9vZCJ9LCJvcHRpb25zIjpmYWxzZSwic2NvcGUiOiJpbnRlcm5hbCIsInNlcnZpY2VfcmVjb3JkcyI6W3siaGFsdGVkIjpmYWxzZSwic2VydmljZSI6Im51bW11c191cyIsInNoYXJkX2lkIjoyLCJzdGF0ZSI6ImF2YWlsYWJsZSJ9LHsiaGFsdGVkIjpmYWxzZSwic2VydmljZSI6ImJyb2tlYmFja191cyIsInNoYXJkX2lkIjoxMSwic3RhdGUiOiJhdmFpbGFibGUifV0sInNybSI6eyJiX3VzIjp7ImhsIjpmYWxzZSwic2lkIjoxMSwic3QiOiJhdiJ9LCJuX3VzIjp7ImhsIjpmYWxzZSwic2lkIjoyLCJzdCI6ImF2In19LCJ0b2tlbiI6Ik5SM0tYMFVGYWExOHJGTDU5ZWc3czI3MFU4WDlocyIsInVzZXJfaWQiOiIzNjExMGY5NC1jOWNhLTQ3NjItYmQ5Mi04MGRhNjYzYzU3MzIiLCJ1c2VyX29yaWdpbiI6IlVTIn0.AsZS4RqUVvgTCkfoYazUSTfomkowFKUpqX3NEbF41SuU_logZIqQgNVXFm6TPsGtS_qp2q7H7VWQfQ3ynpCOe4jjRYzmd9wviItuhyxvsvf9E-b207KeDSNv3XEDMFS1kK2zH0HV7LBp4x3YDvmH-r8ccdPs20Wnxcd-o_GjmEezxAXbh5eOWcO6hdx7BIQwBRqJNJzNH_rr-0LhySpp-O-dP9pkJeXuRwfPQudayDtXxjPLEPA9l0LJgCRAxsgs9fOSsOG7T4UEO4-1GPx_NzICEVTgoxncRrcFshD4v4KBPtchOarPGkMB256UrNTWVj97JjUloDHhyvKMVLKCUA',\n",
       " 'token_type': 'Bearer',\n",
       " 'expires_in': 86400,\n",
       " 'scope': 'internal',\n",
       " 'detail': 'logged in using authentication in robinhood.pickle',\n",
       " 'backup_code': None,\n",
       " 'refresh_token': 'm4QJQBBDjUDdc2ly0Zh96lGjfnomrq'}"
      ]
     },
     "execution_count": 8,
     "metadata": {},
     "output_type": "execute_result"
    }
   ],
   "source": [
    "robin_user = os.environ.get(\"robinhood_username\")\n",
    "robin_pass = os.environ.get(\"robinhood_password\")\n",
    "rs.login(username=robin_user,\n",
    "         password=robin_pass,\n",
    "         expiresIn=86400,\n",
    "         by_sms=True)"
   ]
  },
  {
   "cell_type": "markdown",
   "metadata": {},
   "source": [
    "Get the top 100 stocks"
   ]
  },
  {
   "cell_type": "code",
   "execution_count": null,
   "metadata": {},
   "outputs": [],
   "source": []
  },
  {
   "cell_type": "markdown",
   "metadata": {},
   "source": [
    "Print the symbols of the top 100 stocks"
   ]
  },
  {
   "cell_type": "code",
   "execution_count": null,
   "metadata": {},
   "outputs": [],
   "source": []
  },
  {
   "cell_type": "code",
   "execution_count": 9,
   "metadata": {},
   "outputs": [],
   "source": [
    "import json\n",
    "top100listOfDicts = rs.get_top_100()\n",
    "  "
   ]
  },
  {
   "cell_type": "code",
   "execution_count": 16,
   "metadata": {},
   "outputs": [
    {
     "name": "stdout",
     "output_type": "stream",
     "text": [
      "tick\n",
      "--------------------------------\n",
      "Buying TSLA\n",
      "Bought at 243.94\n",
      "Adaptive Sell Foor 219.546\n",
      "--------------------------------\n",
      "updating TSLA\n",
      "--------------------------------\n",
      "Buying AAPL\n",
      "Bought at 180.86\n",
      "Adaptive Sell Foor 162.77400000000003\n",
      "--------------------------------\n",
      "updating AAPL\n",
      "--------------------------------\n",
      "Buying AMZN\n",
      "Bought at 135.0\n",
      "Adaptive Sell Foor 121.5\n",
      "--------------------------------\n",
      "updating AMZN\n",
      "--------------------------------\n",
      "Buying F\n",
      "Bought at 13.78\n",
      "Adaptive Sell Foor 12.402\n",
      "--------------------------------\n",
      "updating F\n",
      "--------------------------------\n",
      "Buying AMC\n",
      "Bought at 4.78\n",
      "Adaptive Sell Foor 4.3020000000000005\n",
      "--------------------------------\n",
      "updating AMC\n",
      "--------------------------------\n",
      "Buying APE\n",
      "Bought at 1.6\n",
      "Adaptive Sell Foor 1.4400000000000002\n",
      "--------------------------------\n",
      "updating APE\n",
      "--------------------------------\n",
      "Buying MSFT\n",
      "Bought at 336.5\n",
      "Adaptive Sell Foor 302.85\n",
      "--------------------------------\n",
      "updating MSFT\n",
      "--------------------------------\n",
      "Buying SNDL\n",
      "Bought at 14.15\n",
      "Adaptive Sell Foor 12.735000000000001\n",
      "--------------------------------\n",
      "updating SNDL\n",
      "--------------------------------\n",
      "Selling SNDL\n",
      "Bought at 14.15\n",
      "Sold at 1.400000\n",
      "YOUR $$$: -12.75\n",
      "--------------------------------\n"
     ]
    },
    {
     "ename": "KeyError",
     "evalue": "'SNDL'",
     "output_type": "error",
     "traceback": [
      "\u001b[1;31m----------------------------------------------------\u001b[0m",
      "\u001b[1;31mKeyError\u001b[0m           Traceback (most recent call last)",
      "Cell \u001b[1;32mIn[16], line 8\u001b[0m\n\u001b[0;32m      5\u001b[0m \u001b[38;5;66;03m# get top stocks\u001b[39;00m\n\u001b[0;32m      6\u001b[0m top_stocks \u001b[38;5;241m=\u001b[39m rs\u001b[38;5;241m.\u001b[39mget_top_100()\n\u001b[1;32m----> 8\u001b[0m \u001b[43mBuyLowSellHigh\u001b[49m\u001b[43m(\u001b[49m\u001b[43mtop100listOfDicts\u001b[49m\u001b[43m)\u001b[49m\n\u001b[0;32m     10\u001b[0m \u001b[38;5;66;03m# get the 0th index in dixonStocks\u001b[39;00m\n\u001b[0;32m     11\u001b[0m \u001b[38;5;28;01mfor\u001b[39;00m k, stock \u001b[38;5;129;01min\u001b[39;00m dixonStocks\u001b[38;5;241m.\u001b[39mitems():\n",
      "Cell \u001b[1;32mIn[6], line 10\u001b[0m, in \u001b[0;36mBuyLowSellHigh\u001b[1;34m(stockListOfDicts)\u001b[0m\n\u001b[0;32m      7\u001b[0m \u001b[38;5;66;03m# if we dont have the stock, buy it and add to dixonstocks\u001b[39;00m\n\u001b[0;32m      8\u001b[0m \u001b[38;5;66;03m# stock will buy itself upon creation\u001b[39;00m\n\u001b[0;32m      9\u001b[0m \u001b[38;5;28;01mif\u001b[39;00m stockSymbol \u001b[38;5;129;01mnot\u001b[39;00m \u001b[38;5;129;01min\u001b[39;00m heldStockSymbols:\n\u001b[1;32m---> 10\u001b[0m     dixonStocks[stockSymbol] \u001b[38;5;241m=\u001b[39m \u001b[43mStock\u001b[49m\u001b[43m(\u001b[49m\u001b[43mstockDict\u001b[49m\u001b[43m)\u001b[49m\n\u001b[0;32m     11\u001b[0m \u001b[38;5;66;03m# otherwise, run the update command, which may sell itself\u001b[39;00m\n\u001b[0;32m     12\u001b[0m \u001b[38;5;28;01melse\u001b[39;00m:\n\u001b[0;32m     13\u001b[0m     dixonStocks[stockSymbol]\u001b[38;5;241m.\u001b[39mupdate(stockDict)\n",
      "Cell \u001b[1;32mIn[15], line 16\u001b[0m, in \u001b[0;36mStock.__init__\u001b[1;34m(self, stockDict)\u001b[0m\n\u001b[0;32m     14\u001b[0m \u001b[38;5;28mself\u001b[39m\u001b[38;5;241m.\u001b[39madaptiveSellFloor \u001b[38;5;241m=\u001b[39m \u001b[38;5;28;01mNone\u001b[39;00m\n\u001b[0;32m     15\u001b[0m \u001b[38;5;28mself\u001b[39m\u001b[38;5;241m.\u001b[39mbuy()\n\u001b[1;32m---> 16\u001b[0m \u001b[38;5;28;43mself\u001b[39;49m\u001b[38;5;241;43m.\u001b[39;49m\u001b[43mupdate\u001b[49m\u001b[43m(\u001b[49m\u001b[43mstockDict\u001b[49m\u001b[43m)\u001b[49m\n",
      "Cell \u001b[1;32mIn[15], line 44\u001b[0m, in \u001b[0;36mStock.update\u001b[1;34m(self, indict, adaptionInertia)\u001b[0m\n\u001b[0;32m     39\u001b[0m \u001b[38;5;66;03m# calculate the ratio to the buy time\u001b[39;00m\n\u001b[0;32m     40\u001b[0m \u001b[38;5;66;03m# ratioRelativeToBuy = float(self.bid_price) / float(self.buyPrice)\u001b[39;00m\n\u001b[0;32m     41\u001b[0m \n\u001b[0;32m     42\u001b[0m \u001b[38;5;66;03m# if the bid price falls below the floor, sell!\u001b[39;00m\n\u001b[0;32m     43\u001b[0m \u001b[38;5;28;01mif\u001b[39;00m \u001b[38;5;28mself\u001b[39m\u001b[38;5;241m.\u001b[39mbid_price_float \u001b[38;5;241m<\u001b[39m \u001b[38;5;28mself\u001b[39m\u001b[38;5;241m.\u001b[39madaptiveSellFloor:\n\u001b[1;32m---> 44\u001b[0m     \u001b[38;5;28;43mself\u001b[39;49m\u001b[38;5;241;43m.\u001b[39;49m\u001b[43msell\u001b[49m\u001b[43m(\u001b[49m\u001b[43m)\u001b[49m\n\u001b[0;32m     46\u001b[0m \u001b[38;5;28mself\u001b[39m\u001b[38;5;241m.\u001b[39mrunFilter()\n",
      "Cell \u001b[1;32mIn[15], line 91\u001b[0m, in \u001b[0;36mStock.sell\u001b[1;34m(self)\u001b[0m\n\u001b[0;32m     89\u001b[0m \u001b[38;5;28mprint\u001b[39m(\u001b[38;5;124m\"\u001b[39m\u001b[38;5;124mYOUR $$$: \u001b[39m\u001b[38;5;124m\"\u001b[39m \u001b[38;5;241m+\u001b[39m \u001b[38;5;28mstr\u001b[39m(\u001b[38;5;28mself\u001b[39m\u001b[38;5;241m.\u001b[39mbid_price_float \u001b[38;5;241m-\u001b[39m \u001b[38;5;28mself\u001b[39m\u001b[38;5;241m.\u001b[39mbuyPrice))\n\u001b[0;32m     90\u001b[0m \u001b[38;5;28mprint\u001b[39m(\u001b[38;5;124m\"\u001b[39m\u001b[38;5;124m--------------------------------\u001b[39m\u001b[38;5;124m\"\u001b[39m)\n\u001b[1;32m---> 91\u001b[0m \u001b[38;5;28;43mself\u001b[39;49m\u001b[38;5;241;43m.\u001b[39;49m\u001b[43mdelete\u001b[49m\u001b[43m(\u001b[49m\u001b[43m)\u001b[49m\n",
      "Cell \u001b[1;32mIn[15], line 20\u001b[0m, in \u001b[0;36mStock.delete\u001b[1;34m(self)\u001b[0m\n\u001b[0;32m     19\u001b[0m \u001b[38;5;28;01mdef\u001b[39;00m \u001b[38;5;21mdelete\u001b[39m(\u001b[38;5;28mself\u001b[39m):\n\u001b[1;32m---> 20\u001b[0m     \u001b[38;5;28;01mdel\u001b[39;00m \u001b[43mdixonStocks\u001b[49m\u001b[43m[\u001b[49m\u001b[38;5;28;43mself\u001b[39;49m\u001b[38;5;241;43m.\u001b[39;49m\u001b[43msymbol\u001b[49m\u001b[43m]\u001b[49m\n",
      "\u001b[1;31mKeyError\u001b[0m: 'SNDL'"
     ]
    }
   ],
   "source": [
    "import time\n",
    "#print(dixonStocks)\n",
    "while True:\n",
    "    print(\"tick\")\n",
    "    # get top stocks\n",
    "    top_stocks = rs.get_top_100()\n",
    "    \n",
    "    BuyLowSellHigh(top100listOfDicts)\n",
    "    \n",
    "    # get the 0th index in dixonStocks\n",
    "    for k, stock in dixonStocks.items():\n",
    "        stock.graph()\n",
    "        break\n",
    "    \n",
    "    # every 5 seconds\n",
    "    time.sleep(2)"
   ]
  },
  {
   "cell_type": "markdown",
   "metadata": {},
   "source": [
    " = rs.get_all_stocks_from_market_tag('technology') # get all tech tags<br>\n",
    "rint(a)"
   ]
  },
  {
   "cell_type": "markdown",
   "metadata": {},
   "source": [
    "Here are some example calls"
   ]
  },
  {
   "cell_type": "code",
   "execution_count": null,
   "metadata": {},
   "outputs": [],
   "source": [
    "rs.robinhood.get_all_open_crypto_orders() # gets all cypto orders from Robinhood\n",
    "rs.logout()"
   ]
  },
  {
   "cell_type": "code",
   "execution_count": null,
   "metadata": {},
   "outputs": [],
   "source": []
  }
 ],
 "metadata": {
  "kernelspec": {
   "display_name": "Python 3 (ipykernel)",
   "language": "python",
   "name": "python3"
  },
  "language_info": {
   "codemirror_mode": {
    "name": "ipython",
    "version": 3
   },
   "file_extension": ".py",
   "mimetype": "text/x-python",
   "name": "python",
   "nbconvert_exporter": "python",
   "pygments_lexer": "ipython3",
   "version": "3.10.6"
  }
 },
 "nbformat": 4,
 "nbformat_minor": 2
}
