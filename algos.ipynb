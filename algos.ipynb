{
 "cells": [
  {
   "cell_type": "markdown",
   "metadata": {},
   "source": [
    "<p style=\"font-size: 35px;\">Trading Bot</p>\n",
    "Algorithms:<br>\n",
    "1. Buy low sell high algorithm"
   ]
  },
  {
   "cell_type": "markdown",
   "metadata": {},
   "source": [
    "\t-allow window for no trading between first 30min and last 30 minutes of the trading day<br>\n",
    "\t-needs to set what price the stock was bought at<br>\n",
    "\t-needs to sell right before hitting this price<br>\n",
    "\t-needs to sell 10% above what the stock was bought at (rough guess)<br>\n",
    "\t-3 variables: buy price, stop loss price, profit price = buy price + 10%<br>\n",
    "</br>\n",
    "      -Sell stocks at EOD"
   ]
  },
  {
   "cell_type": "code",
   "execution_count": 1,
   "metadata": {},
   "outputs": [],
   "source": [
    "from dotenv import load_dotenv\n",
    "from datetime import datetime\n",
    "import json\n",
    "load_dotenv()\n",
    "import robin_stocks.robinhood as rs\n",
    "import os\n",
    "import requests"
   ]
  },
  {
   "cell_type": "markdown",
   "metadata": {},
   "source": [
    "tock states<br>\n",
    "Unbought<br>\n",
    "Bought, hasnt met thresholdawd<br>\n",
    "Bought, crossed threshold"
   ]
  },
  {
   "cell_type": "code",
   "execution_count": 2,
   "metadata": {},
   "outputs": [],
   "source": [
    "#changing the sell option to not delete, deletion can be done at end of day because we can keep records on the price\n",
    "#and weather its work buying again in the day.\n",
    "import matplotlib.pyplot as plt\n",
    "    \n",
    "class Stock:\n",
    "    def __init__(self, stockDict):\n",
    "        for key, value in stockDict.items():\n",
    "            setattr(self, key, value)\n",
    "            \n",
    "        # reset stock history\n",
    "        self.history = []\n",
    "        self.historySmoothed = []\n",
    "        self.price_history=[]\n",
    "        self.state= \"UNBOUGHT\"\n",
    "        self.tick_count=0\n",
    "        \n",
    "        # NONE\n",
    "        self.adaptiveSellFloor = None\n",
    "        self.update(stockDict)\n",
    "        \n",
    "    def initiliaze(self):\n",
    "        self.Price = float(self.ask_price)\n",
    "        self.price_history.append(self.Price)\n",
    "\n",
    "        \n",
    "        \n",
    "        \n",
    "    def delete_self(self):\n",
    "        # Perform any necessary cleanup or actions before deletion\n",
    "        print(\"Deleting self...\")\n",
    "        \n",
    "        # Delete the method from the object\n",
    "        del self.delete_self\n",
    "\n",
    "    def runFilter(self, adaptionInertia=0.8):\n",
    "        # LPF / moving average for Buy Floor\n",
    "        # only apply on upswing\n",
    "        if self.bid_price_float > self.adaptiveSellFloor:\n",
    "            self.adaptiveSellFloor = adaptionInertia*self.adaptiveSellFloor + self.bid_price_float * (1-adaptionInertia)\n",
    "        self.historySmoothed += [self.adaptiveSellFloor]\n",
    "        if len(self.historySmoothed) == 6:\n",
    "            popself.historySmoothed.pop(0)\n",
    "        \n",
    "        \n",
    "    def update(self, indict, adaptionInertia=0.8):\n",
    "        \n",
    "        for key, value in indict.items():\n",
    "            exec(\"self.\" + key + \" = value\")\n",
    "        print(\"updating \" + self.symbol)\n",
    "        self.bid_price_float = float(self.bid_price)\n",
    "        self.history += [self.bid_price_float]\n",
    "        \n",
    "        # calculate the ratio to the buy time\n",
    "        # ratioRelativeToBuy = float(self.bid_price) / float(self.buyPrice)\n",
    "        \n",
    "        # if the bid price falls below the floor, sell!\n",
    "        if self.bid_price_float < self.adaptiveSellFloor:\n",
    "            self.sell()\n",
    "            \n",
    "        self.runFilter()\n",
    "            \n",
    "\n",
    "    def graph(self):\n",
    "\n",
    "        # Create the figure and axes\n",
    "        fig, ax = plt.subplots()\n",
    "\n",
    "        # Plot the first array\n",
    "        ax.plot(self.historySmoothed, label='Smoothed')\n",
    "\n",
    "        # Plot the second array\n",
    "        ax.plot(self.history, label='Bid price')\n",
    "\n",
    "        # Set the title\n",
    "        ax.set_title('Stock History: ' + self.symbol)\n",
    "\n",
    "        # Set the legend\n",
    "        ax.legend()\n",
    "\n",
    "        # Display the plot\n",
    "        plt.show()\n",
    "\n",
    "    \n",
    "    def buy(self):\n",
    "        self.buyPrice = float(self.ask_price)\n",
    "        # set the adaptive sell floor to .95 of the buy price\n",
    "        # only on the buy\n",
    "        if self.adaptiveSellFloor is None:\n",
    "            self.adaptiveSellFloor = 0.95 * self.buyPrice\n",
    "        \n",
    "        print(\"--------------------------------\")\n",
    "        print(\"Buying \" + self.symbol)\n",
    "        print(\"Bought at \" + str(self.buyPrice))\n",
    "        print(\"Adaptive Sell Foor \" + str(self.adaptiveSellFloor))\n",
    "        print(\"--------------------------------\")\n",
    "        \n",
    "        self.state=\"BOUGHT\"\n",
    "        pass\n",
    "\n",
    "    def sell(self):\n",
    "        print(\"--------------------------------\")\n",
    "        print(\"Selling \" + self.symbol)\n",
    "        print(\"Bought at \" + str(self.buyPrice))\n",
    "        print(\"Sold at \" + str(self.bid_price))\n",
    "        print(\"YOUR $$$: \" + str(self.bid_price_float - self.buyPrice))\n",
    "        print(\"--------------------------------\")\n",
    "        \n",
    "    \n",
    "    # Tolerence Map\n",
    "\n",
    "    #  \n",
    "    #\n",
    "    #   _________ buyPoint\n",
    "    #\n",
    "    #   _________ Adaptive sellFloor = LowPass Filter\n",
    "    #\n",
    "    #\n",
    "    # AdaptionInertia is a parameter that lets us adjust the tracking speed of the LPF / Moving average\\\n",
    "            "
   ]
  },
  {
   "cell_type": "code",
   "execution_count": 3,
   "metadata": {},
   "outputs": [],
   "source": [
    "dixonStocks = {}"
   ]
  },
  {
   "cell_type": "code",
   "execution_count": 4,
   "metadata": {},
   "outputs": [],
   "source": [
    "def BuyLowSellHigh(stockListOfDicts):\n",
    "    \n",
    "    for stockDict in stockListOfDicts:\n",
    "        stockSymbol = stockDict[\"symbol\"]\n",
    "        heldStockSymbols = dixonStocks.keys()\n",
    "        \n",
    "        # if we dont have the stock, buy it and add to dixonstocks\n",
    "        # stock will buy itself upon creation\n",
    "        if stockSymbol not in heldStockSymbols:\n",
    "            dixonStocks[stockSymbol] = Stock(stockDict)\n",
    "        # otherwise, run the update command, which may sell itself\n",
    "        else:\n",
    "            dixonStocks[stockSymbol].update(stockDict)\n",
    "            \n",
    "        "
   ]
  },
  {
   "cell_type": "markdown",
   "metadata": {},
   "source": [
    "mport robin_stocks.robinhood as rh<br>\n",
    "mport robin_stocks.gemini as gem<br>\n",
    "mport robin_stocks.tda as tda"
   ]
  },
  {
   "cell_type": "code",
   "execution_count": 5,
   "metadata": {},
   "outputs": [],
   "source": [
    "def get_top_100():\n",
    "    top100listOfDicts = rs.get_top_100()\n",
    "    top_100_data = top100listofDicts.json\n",
    "    top_100_file_path= \"./Top_100.json\"\n",
    "    with open(top_100_file_path, \"w+\") as file:\n",
    "        json.dump(top_100_data, file)\n",
    "        print(\"updating Top_100.json\")\n",
    "    return(top100listofDicts)"
   ]
  },
  {
   "cell_type": "code",
   "execution_count": 6,
   "metadata": {},
   "outputs": [
    {
     "data": {
      "text/plain": [
       "{'access_token': 'eyJhbGciOiJSUzI1NiIsInR5cCI6IkpXVCJ9.eyJkY3QiOjE2ODY1MTg1MTcsImRldmljZV9oYXNoIjoiYWU2ZThhZGJhNTA2MDlhNDQ3NDg1M2U0YWI1ODM2M2QiLCJleHAiOjE2ODc5MDQxMjYsImxldmVsMl9hY2Nlc3MiOmZhbHNlLCJtZXRhIjp7Im9pZCI6ImM4MlNIMFdaT3NhYk9YR1Ayc3hxY2ozNEZ4a3ZmbldSWkJLbEJqRlMiLCJvbiI6IlJvYmluaG9vZCJ9LCJvcHRpb25zIjpmYWxzZSwic2NvcGUiOiJpbnRlcm5hbCIsInNlcnZpY2VfcmVjb3JkcyI6W3siaGFsdGVkIjpmYWxzZSwic2VydmljZSI6Im51bW11c191cyIsInNoYXJkX2lkIjoyLCJzdGF0ZSI6ImF2YWlsYWJsZSJ9LHsiaGFsdGVkIjpmYWxzZSwic2VydmljZSI6ImJyb2tlYmFja191cyIsInNoYXJkX2lkIjoxMSwic3RhdGUiOiJhdmFpbGFibGUifV0sInNybSI6eyJiX3VzIjp7ImhsIjpmYWxzZSwic2lkIjoxMSwic3QiOiJhdiJ9LCJuX3VzIjp7ImhsIjpmYWxzZSwic2lkIjoyLCJzdCI6ImF2In19LCJ0b2tlbiI6IkM4MUFoRTF2WHdCSXExeFJlc0lrb0w2dmMxUnZ3ayIsInVzZXJfaWQiOiIzNjExMGY5NC1jOWNhLTQ3NjItYmQ5Mi04MGRhNjYzYzU3MzIiLCJ1c2VyX29yaWdpbiI6IlVTIn0.qsrJ4fPB_2Rqtg5J7kzKwB6MXZ7251WYlDW0vx-uQIxhgu1lpgHLrzRzjYixnjzc2yMNCqAZYfOV1Nh4mMfhYkxf4icdYCJJs2rufPu5tsnZTc_gkGnYAxuAKR1-q_rUV2HD965JJ6OGlS6brnTKkOhgo5dtXGlVUrm4eAkM0XdPL9dxOmWjAJrZaHnpRlBIIrJpw9HPIGBm96ly4xO0i1hb8CA6_-3impjUDfMUmT610DiB-ZXNwJQ1IhcW3EXhDuV0oPnJ4vKQ8Krq9nbL8GZAhibBvE7iibHZ2xzV6IOSl5R9W5H-XQti-iQbHsgophxv-otYtNxqAsJkxye8vw',\n",
       " 'token_type': 'Bearer',\n",
       " 'expires_in': 86400,\n",
       " 'scope': 'internal',\n",
       " 'detail': 'logged in using authentication in robinhood.pickle',\n",
       " 'backup_code': None,\n",
       " 'refresh_token': 'w1r0hSKwQKAz1nAICrUj32tXbit752'}"
      ]
     },
     "execution_count": 6,
     "metadata": {},
     "output_type": "execute_result"
    }
   ],
   "source": [
    "robin_user = os.environ.get(\"robinhood_username\")\n",
    "robin_pass = os.environ.get(\"robinhood_password\")\n",
    "rs.login(username=robin_user,\n",
    "         password=robin_pass,\n",
    "         expiresIn=86400,\n",
    "         by_sms=True)"
   ]
  },
  {
   "cell_type": "markdown",
   "metadata": {},
   "source": [
    "Get and print the symbols of the top 100 stocks"
   ]
  },
  {
   "cell_type": "code",
   "execution_count": 7,
   "metadata": {},
   "outputs": [
    {
     "name": "stdout",
     "output_type": "stream",
     "text": [
      "tick\n"
     ]
    },
    {
     "ename": "NameError",
     "evalue": "name 'top100listofDicts' is not defined",
     "output_type": "error",
     "traceback": [
      "\u001b[1;31m-----------------------------------------------\u001b[0m",
      "\u001b[1;31mNameError\u001b[0m     Traceback (most recent call last)",
      "Cell \u001b[1;32mIn[7], line 8\u001b[0m\n\u001b[0;32m      5\u001b[0m \u001b[38;5;28mprint\u001b[39m(\u001b[38;5;124m\"\u001b[39m\u001b[38;5;124mtick\u001b[39m\u001b[38;5;124m\"\u001b[39m)\n\u001b[0;32m      6\u001b[0m \u001b[38;5;66;03m# get top stocks\u001b[39;00m\n\u001b[0;32m      7\u001b[0m \u001b[38;5;66;03m#top100listOfDicts = rs.get_top_100()\u001b[39;00m\n\u001b[1;32m----> 8\u001b[0m \u001b[43mget_top_100\u001b[49m\u001b[43m(\u001b[49m\u001b[43m)\u001b[49m\n\u001b[0;32m     10\u001b[0m BuyLowSellHigh(top100listOfDicts)\n\u001b[0;32m     12\u001b[0m \u001b[38;5;66;03m# get the 0th index in dixonStocks\u001b[39;00m\n",
      "Cell \u001b[1;32mIn[5], line 3\u001b[0m, in \u001b[0;36mget_top_100\u001b[1;34m()\u001b[0m\n\u001b[0;32m      1\u001b[0m \u001b[38;5;28;01mdef\u001b[39;00m \u001b[38;5;21mget_top_100\u001b[39m():\n\u001b[0;32m      2\u001b[0m     top100listOfDicts \u001b[38;5;241m=\u001b[39m rs\u001b[38;5;241m.\u001b[39mget_top_100()\n\u001b[1;32m----> 3\u001b[0m     top_100_data \u001b[38;5;241m=\u001b[39m \u001b[43mtop100listofDicts\u001b[49m\u001b[38;5;241m.\u001b[39mjson\n\u001b[0;32m      4\u001b[0m     top_100_file_path\u001b[38;5;241m=\u001b[39m \u001b[38;5;124m\"\u001b[39m\u001b[38;5;124m./Top_100.json\u001b[39m\u001b[38;5;124m\"\u001b[39m\n\u001b[0;32m      5\u001b[0m     \u001b[38;5;28;01mwith\u001b[39;00m \u001b[38;5;28mopen\u001b[39m(top_100_file_path, \u001b[38;5;124m\"\u001b[39m\u001b[38;5;124mw+\u001b[39m\u001b[38;5;124m\"\u001b[39m) \u001b[38;5;28;01mas\u001b[39;00m file:\n",
      "\u001b[1;31mNameError\u001b[0m: name 'top100listofDicts' is not defined"
     ]
    }
   ],
   "source": [
    "import json\n",
    "import time\n",
    "#print(dixonStocks)\n",
    "while True:\n",
    "    print(\"tick\")\n",
    "    # get top stocks\n",
    "    #top100listOfDicts = rs.get_top_100()\n",
    "    get_top_100()\n",
    "    \n",
    "    BuyLowSellHigh(top100listOfDicts)\n",
    "    \n",
    "    # get the 0th index in dixonStocks\n",
    "    for k, stock in dixonStocks.items():\n",
    "        stock.graph()\n",
    "        break\n",
    "    \n",
    "    # every 5 seconds\n",
    "    time.sleep(5)"
   ]
  },
  {
   "cell_type": "markdown",
   "metadata": {},
   "source": [
    " = rs.get_all_stocks_from_market_tag('technology') # get all tech tags<br>\n",
    "rint(a)"
   ]
  },
  {
   "cell_type": "markdown",
   "metadata": {},
   "source": [
    "Here are some example calls"
   ]
  },
  {
   "cell_type": "code",
   "execution_count": null,
   "metadata": {},
   "outputs": [],
   "source": [
    "rs.robinhood.get_all_open_crypto_orders() # gets all cypto orders from Robinhood\n",
    "rs.logout()"
   ]
  },
  {
   "cell_type": "code",
   "execution_count": null,
   "metadata": {},
   "outputs": [],
   "source": []
  }
 ],
 "metadata": {
  "kernelspec": {
   "display_name": "Python 3 (ipykernel)",
   "language": "python",
   "name": "python3"
  },
  "language_info": {
   "codemirror_mode": {
    "name": "ipython",
    "version": 3
   },
   "file_extension": ".py",
   "mimetype": "text/x-python",
   "name": "python",
   "nbconvert_exporter": "python",
   "pygments_lexer": "ipython3",
   "version": "3.11.3"
  }
 },
 "nbformat": 4,
 "nbformat_minor": 2
}
