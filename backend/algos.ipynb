{
 "cells": [
  {
   "attachments": {},
   "cell_type": "markdown",
   "metadata": {},
   "source": [
    "Algorithms:<br>\n",
    "1. Buy low sell high algorithm"
   ]
  },
  {
   "attachments": {},
   "cell_type": "markdown",
   "metadata": {},
   "source": [
    "\t-allow window for no trading between first 30min and last 30 minutes of the trading day<br>\n",
    "\t-needs to set what price the stock was bought at<br>\n",
    "\t-needs to sell right before hitting this price<br>\n",
    "\t-needs to sell 10% above what the stock was bought at (rough guess)<br>\n",
    "\t-3 variables: buy price, stop loss price, profit price = buy price + 10%<br>\n",
    "<br>\n",
    "      -Sell stocks at EOD"
   ]
  },
  {
   "cell_type": "code",
   "execution_count": 2,
   "metadata": {},
   "outputs": [
    {
     "ename": "ModuleNotFoundError",
     "evalue": "No module named 'dotenv'",
     "output_type": "error",
     "traceback": [
      "\u001b[1;31m---------------------------------------------------------------------------\u001b[0m",
      "\u001b[1;31mModuleNotFoundError\u001b[0m                       Traceback (most recent call last)",
      "\u001b[1;32mc:\\Users\\Assoc\\Documents\\GitHub\\AutoATM\\backend\\algos.ipynb Cell 3\u001b[0m in \u001b[0;36m1\n\u001b[1;32m----> <a href='vscode-notebook-cell:/c%3A/Users/Assoc/Documents/GitHub/AutoATM/backend/algos.ipynb#W2sZmlsZQ%3D%3D?line=0'>1</a>\u001b[0m \u001b[39mfrom\u001b[39;00m \u001b[39mdotenv\u001b[39;00m \u001b[39mimport\u001b[39;00m load_dotenv\n\u001b[0;32m      <a href='vscode-notebook-cell:/c%3A/Users/Assoc/Documents/GitHub/AutoATM/backend/algos.ipynb#W2sZmlsZQ%3D%3D?line=1'>2</a>\u001b[0m \u001b[39mfrom\u001b[39;00m \u001b[39mdatetime\u001b[39;00m \u001b[39mimport\u001b[39;00m datetime\n\u001b[0;32m      <a href='vscode-notebook-cell:/c%3A/Users/Assoc/Documents/GitHub/AutoATM/backend/algos.ipynb#W2sZmlsZQ%3D%3D?line=2'>3</a>\u001b[0m load_dotenv()\n",
      "\u001b[1;31mModuleNotFoundError\u001b[0m: No module named 'dotenv'"
     ]
    }
   ],
   "source": [
    "from dotenv import load_dotenv\n",
    "from datetime import datetime\n",
    "load_dotenv()"
   ]
  },
  {
   "attachments": {},
   "cell_type": "markdown",
   "metadata": {},
   "source": [
    "\n",
    "# The Stock Class\n",
    "Buys itself on init, deletes itself on sell\n"
   ]
  },
  {
   "cell_type": "code",
   "execution_count": null,
   "metadata": {},
   "outputs": [],
   "source": [
    "import matplotlib.pyplot as plt\n",
    "    \n",
    "class Stock:\n",
    "    def __init__(self, stockDict):\n",
    "        # set the input items as class members\n",
    "        for key, value in stockDict.items():\n",
    "            exec(\"self.\" + key + \" = value\")\n",
    "            \n",
    "        # reset stock history\n",
    "        self.history = []\n",
    "        self.historySmoothed = []\n",
    "        \n",
    "        # NONE\n",
    "        self.adaptiveSellFloor = None\n",
    "        self.buy()\n",
    "        self.update(stockDict)\n",
    "        \n",
    "        \n",
    "    def delete(self):\n",
    "        del stockPortfolio[self.symbol]\n",
    "\n",
    "    def runFilter(self, adaptionInertia=0.8):\n",
    "        # LPF / moving average for Buy Floor\n",
    "        # only apply on upswing\n",
    "        #if self.bid_price_float > self.adaptiveSellFloor:\n",
    "        #    self.adaptiveSellFloor = adaptionInertia*self.adaptiveSellFloor + self.bid_price_float * (1-adaptionInertia)\n",
    "        \n",
    "        # simplefloor\n",
    "        self.adaptiveSellFloor = max(self.adaptiveSellFloor, self.bid_price_float*0.9)\n",
    "        \n",
    "        self.historySmoothed += [self.adaptiveSellFloor]\n",
    "        \n",
    "        \n",
    "        \n",
    "    def update(self, indict, adaptionInertia=0.8):\n",
    "        \n",
    "        for key, value in indict.items():\n",
    "            exec(\"self.\" + key + \" = value\")\n",
    "        print(\"updating \" + self.symbol)\n",
    "        self.bid_price_float = float(self.bid_price)\n",
    "        self.history += [self.bid_price_float]\n",
    "        \n",
    "        # calculate the ratio to the buy time\n",
    "        # ratioRelativeToBuy = float(self.bid_price) / float(self.buyPrice)\n",
    "        \n",
    "        # if the bid price falls below the floor, sell!\n",
    "        if self.bid_price_float < self.adaptiveSellFloor:\n",
    "            self.sell()\n",
    "            \n",
    "        self.runFilter()\n",
    "            \n",
    "\n",
    "    def graph(self):\n",
    "\n",
    "        # Create the figure and axes\n",
    "        fig, ax = plt.subplots()\n",
    "\n",
    "        # Plot the first array\n",
    "        ax.plot(self.historySmoothed, label='Smoothed')\n",
    "\n",
    "        # Plot the second array\n",
    "        ax.plot(self.history, label='Bid price')\n",
    "\n",
    "        # Set the title\n",
    "        ax.set_title('Stock History: ' + self.symbol)\n",
    "\n",
    "        # Set the legend\n",
    "        ax.legend()\n",
    "\n",
    "        # Display the plot\n",
    "        plt.show()\n",
    "\n",
    "    \n",
    "    def buy(self):\n",
    "        self.buyPrice = float(self.ask_price)\n",
    "        # set the adaptive sell floor to .9 of the buy price\n",
    "        # only on the buy\n",
    "        if self.adaptiveSellFloor is None:\n",
    "            self.adaptiveSellFloor = 0.9 * self.buyPrice\n",
    "        \n",
    "        print(\"--------------------------------\")\n",
    "        print(\"Buying \" + self.symbol)\n",
    "        print(\"Bought at \" + str(self.buyPrice))\n",
    "        print(\"Adaptive Sell Foor \" + str(self.adaptiveSellFloor))\n",
    "        print(\"--------------------------------\")\n",
    "        pass\n",
    "\n",
    "    def sell(self):\n",
    "        print(\"--------------------------------\")\n",
    "        print(\"Selling \" + self.symbol)\n",
    "        print(\"Bought at \" + str(self.buyPrice))\n",
    "        print(\"Sold at \" + str(self.bid_price))\n",
    "        print(\"YOUR $$$: \" + str(self.bid_price_float - self.buyPrice))\n",
    "        print(\"--------------------------------\")\n",
    "        self.delete()\n",
    "    \n",
    "    # Tolerence Map\n",
    "\n",
    "    #  \n",
    "    #\n",
    "    #   _________ buyPoint\n",
    "    #\n",
    "    #   _________ Adaptive sellFloor = LowPass Filter\n",
    "    #\n",
    "    #\n",
    "    # AdaptionInertia is a parameter that lets us adjust the tracking speed of the LPF / Moving average\\\n",
    "            "
   ]
  },
  {
   "cell_type": "code",
   "execution_count": null,
   "metadata": {},
   "outputs": [],
   "source": [
    "stockPortfolio = {}"
   ]
  },
  {
   "cell_type": "code",
   "execution_count": null,
   "metadata": {},
   "outputs": [],
   "source": [
    "import requests"
   ]
  },
  {
   "cell_type": "code",
   "execution_count": null,
   "metadata": {},
   "outputs": [],
   "source": [
    "def BuyLowSellHigh(stockListOfDicts):\n",
    "    \n",
    "    for stockDict in stockListOfDicts:\n",
    "        stockSymbol = stockDict[\"symbol\"]\n",
    "        heldStockSymbols = stockPortfolio.keys()\n",
    "        \n",
    "        # if we dont have the stock, buy it and add to stockPortfolio\n",
    "        # stock will buy itself upon creation\n",
    "        if stockSymbol not in heldStockSymbols:\n",
    "            stockPortfolio[stockSymbol] = Stock(stockDict)\n",
    "        # otherwise, run the update command, which may sell itself\n",
    "        else:\n",
    "            stockPortfolio[stockSymbol].update(stockDict)\n",
    "            \n",
    "        "
   ]
  },
  {
   "attachments": {},
   "cell_type": "markdown",
   "metadata": {},
   "source": [
    "mport robin_stocks.robinhood as rh<br>\n",
    "mport robin_stocks.gemini as gem<br>\n",
    "mport robin_stocks.tda as tda"
   ]
  },
  {
   "cell_type": "code",
   "execution_count": null,
   "metadata": {},
   "outputs": [],
   "source": [
    "import robin_stocks.robinhood as rs\n",
    "import os"
   ]
  },
  {
   "cell_type": "code",
   "execution_count": null,
   "metadata": {},
   "outputs": [],
   "source": [
    "robin_user = os.environ.get(\"robinhood_username\")\n",
    "robin_pass = os.environ.get(\"robinhood_password\")\n",
    "rs.login(username=robin_user,\n",
    "         password=robin_pass,\n",
    "         expiresIn=86400,\n",
    "         by_sms=True)"
   ]
  },
  {
   "attachments": {},
   "cell_type": "markdown",
   "metadata": {},
   "source": [
    "Get the top 100 stocks"
   ]
  },
  {
   "attachments": {},
   "cell_type": "markdown",
   "metadata": {},
   "source": [
    "Print the symbols of the top 100 stocks"
   ]
  },
  {
   "cell_type": "code",
   "execution_count": null,
   "metadata": {},
   "outputs": [],
   "source": [
    "import time\n",
    "import json\n",
    "#print(stockPortfolio)\n",
    "while True:\n",
    "    print(\"tick\")\n",
    "    # get top stocks\n",
    "    top100listOfDicts = rs.get_top_100()\n",
    "    \n",
    "    BuyLowSellHigh(top100listOfDicts[:3])\n",
    "    \n",
    "    # get the 0th index in stockPortfolio\n",
    "    for k, stock in stockPortfolio.items():\n",
    "        stock.graph()\n",
    "        break\n",
    "    \n",
    "    # every 5 seconds\n",
    "    time.sleep(2)"
   ]
  },
  {
   "cell_type": "code",
   "execution_count": null,
   "metadata": {},
   "outputs": [],
   "source": [
    "rs.get_all_open_crypto_orders() # gets all cypto orders from Robinhood\n"
   ]
  },
  {
   "cell_type": "code",
   "execution_count": null,
   "metadata": {},
   "outputs": [],
   "source": [
    "rs.logout()"
   ]
  }
 ],
 "metadata": {
  "kernelspec": {
   "display_name": "\"Python/Mu (mu_venv-38-20230331-155358)\"",
   "language": "python",
   "name": "mu_venv-38-20230331-155358"
  },
  "language_info": {
   "codemirror_mode": {
    "name": "ipython",
    "version": 3
   },
   "file_extension": ".py",
   "mimetype": "text/x-python",
   "name": "python",
   "nbconvert_exporter": "python",
   "pygments_lexer": "ipython3",
   "version": "3.8.12"
  }
 },
 "nbformat": 4,
 "nbformat_minor": 2
}
