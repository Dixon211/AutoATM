{
 "cells": [
  {
   "cell_type": "code",
   "execution_count": 1,
   "id": "cf2ce4c5",
   "metadata": {},
   "outputs": [],
   "source": [
    "from dotenv import load_dotenv\n",
    "import robin_stocks.robinhood as rs\n",
    "import os\n",
    "import requests\n",
    "import time\n",
    "import json"
   ]
  },
  {
   "cell_type": "markdown",
   "id": "f3b05068",
   "metadata": {},
   "source": [
    "## Initialization\n",
    "    Functions used in Staging Area"
   ]
  },
  {
   "cell_type": "code",
   "execution_count": 2,
   "id": "d4756645",
   "metadata": {},
   "outputs": [],
   "source": [
    "def rh_login():\n",
    "    load_dotenv()\n",
    "    robin_user = os.environ.get(\"robinhood_username\")\n",
    "    robin_pass = os.environ.get(\"robinhood_password\")\n",
    "    rs.login(username=robin_user,\n",
    "             password=robin_pass,\n",
    "             expiresIn=86400,\n",
    "             by_sms=True)"
   ]
  },
  {
   "cell_type": "code",
   "execution_count": 3,
   "id": "41671af5",
   "metadata": {},
   "outputs": [],
   "source": [
    "def time_wizard(time_count):\n",
    "    time_count += 1\n",
    "    if time_count == 6:\n",
    "        time_count = 1\n",
    "    #print(f\"Time Count: {time_count}\")\n",
    "    return time_count"
   ]
  },
  {
   "cell_type": "code",
   "execution_count": 4,
   "id": "84ef996f",
   "metadata": {},
   "outputs": [],
   "source": [
    "def get_top_100():\n",
    "    top100_raw_dict = rs.get_top_100()\n",
    "    top_100_file_path= \"./Top_100.json\"\n",
    "    with open(top_100_file_path, \"w+\") as file:\n",
    "        json.dump(top100_raw_dict, file)\n",
    "    #print(\"updating raw\")\n",
    "    return(top100_raw_dict)"
   ]
  },
  {
   "cell_type": "code",
   "execution_count": 5,
   "id": "1b8ed9b6",
   "metadata": {},
   "outputs": [],
   "source": [
    "def get_money_in_account():\n",
    "    global reserve_cash\n",
    "    profile_info = rs.build_user_profile()\n",
    "    reserve_cash = float(profile_info['cash'])-25000 #to account for buy-in money that cannot be traded"
   ]
  },
  {
   "cell_type": "code",
   "execution_count": 6,
   "id": "67c1fe97",
   "metadata": {},
   "outputs": [],
   "source": [
    "def set_buy_ratio():\n",
    "    global positive_sin_value\n",
    "    global reserve_cash\n",
    "    value_list = []\n",
    "    \n",
    "    for stock_class in positive_sin_value:\n",
    "        value_list.append(stock_class.sin_factor)\n",
    "    #print(f\"value_list: {value_list}\")\n",
    "        \n",
    "    average_sin = sum(value_list) / len(value_list)\n",
    "    #print(f\"average_sin: {average_sin}\")\n",
    "    \n",
    "    for stock_class in positive_sin_value:\n",
    "        print(f\"(({stock_class.sin_factor}/{average_sin})*{reserve_cash})/{len(value_list)}\")\n",
    "        stock_class.amount_to_spend = ((stock_class.sin_factor/average_sin)*reserve_cash)/len(value_list)\n",
    "       # print(stock_class.amount_to_spend)\n",
    "        \n",
    "    positive_sin_value = []\n",
    "        \n",
    "        \n",
    "    \n",
    "        "
   ]
  },
  {
   "cell_type": "markdown",
   "id": "dbb76d2d",
   "metadata": {},
   "source": [
    "## Data Distribution\n",
    "    receives data from get_top_100()\n",
    "    makes stock classes if no stocks in list\n",
    "    looks for stock symbol in stock class and will update each class if they are in stocks_list\n",
    "    \n",
    "    *Need to sell and delete the stock if not on list anymore*"
   ]
  },
  {
   "cell_type": "code",
   "execution_count": 7,
   "id": "3c455453",
   "metadata": {},
   "outputs": [],
   "source": [
    "def update_stock_classes(top100_raw_dict):\n",
    "    global stocks_list\n",
    "    for stock_dict in top100_raw_dict:\n",
    "        if stock_dict[\"symbol\"] not in stocks_list:\n",
    "            stock_class = Stock(stock_dict)\n",
    "\n",
    "    #print(stocks_list)         \n",
    "        else:\n",
    "            for stock_name, stock_class in stocks_list.items():\n",
    "                if stock_name == stock_dict[\"symbol\"]: \n",
    "                    stock_class.ask_price = stock_dict.get(\"ask_price\")\n",
    "                    stock_class.update()\n",
    "                    stock_class.print_variable()\n",
    "            \n",
    "    "
   ]
  },
  {
   "cell_type": "markdown",
   "id": "105dd53d",
   "metadata": {},
   "source": [
    "## Stock Class\n",
    "    When class is created all stock data is turned into class variables (Thank you Julian)\n",
    "    class is added key, value as symbol, class to the stocks_list dictionary\n",
    "    update method is invoked from update_stock_classes()\n",
    "    update method includes the equation_of_sin() method\n",
    "    \n",
    "    Need to:\n",
    "        Add buy method which should buy,  after len(self.price_history) = 5 and sin.factor is greater than 0\n",
    "            Need to make buy method change state and add to bought amount list, might also track shares.\n",
    "        \n",
    "        Add sell button that would sell the stock if sin_factor was less than 0 or if it was 30 minutes before closing\n",
    "            find a way to calculate how many of each stock to buy based on how many stocks are being bought from other classes\n",
    "        \n",
    "        Add equation to calculate profit or loss from buy time to sell time\n",
    "        \n",
    "        \n",
    "        \n",
    "        "
   ]
  },
  {
   "cell_type": "code",
   "execution_count": 8,
   "id": "e949aa33",
   "metadata": {},
   "outputs": [],
   "source": [
    "class Stock:\n",
    "    #Name\n",
    "    def __str__(self):\n",
    "        return self.symbol\n",
    "\n",
    "    #Enter the Battlefield\n",
    "    def __init__(self, stock_dict):\n",
    "        # set the input items as class members\n",
    "        for key, value in stock_dict.items():\n",
    "            exec(\"self.\" + key + \" = value\")\n",
    "            \n",
    "    #Key Words\n",
    "        self.stock_dict = stock_dict\n",
    "        stocks_list[self.symbol] = self #add to dictionary with key as symbol, and value as the class\n",
    "        self.state = \"UNBOUGHT\"\n",
    "        self.price_history=[]\n",
    "        self.sin_factor = None\n",
    "        self.amount_to_spend = None\n",
    "        self.price_history.append(self.ask_price)\n",
    "        \n",
    "        \n",
    "        \n",
    "    #Abilities\n",
    "   \n",
    "    def update(self):\n",
    "        self.price_history.append(self.ask_price)\n",
    "        \n",
    "        #makes the program have at least 5 data points before moving to the next step\n",
    "        if len(self.price_history) >= 6:\n",
    "            self.price_history.pop(0)\n",
    "        else:\n",
    "            pass\n",
    "        \n",
    "        if len(self.price_history) >= 5:\n",
    "            self.equation_of_sin()\n",
    "            \n",
    "        if self.amount_to_spend is not None:\n",
    "            self.buy()\n",
    "        \n",
    "        \n",
    "    \n",
    "    def equation_of_sin(self):\n",
    "        #pythagorean theorem\n",
    "        self.a = len(self.price_history)**2\n",
    "        self.price_differential = float(self.price_history[-1]) - float(self.price_history[0])\n",
    "        self.b = self.price_differential**2\n",
    "        self.c = math.sqrt(self.a + self.b)\n",
    "        \n",
    "        self.sin_factor = round((self.b / self.c), 2)\n",
    "        \n",
    "        if self.sin_factor > 0:\n",
    "            positive_sin_value.append(self)\n",
    "            \n",
    "    def buy(self):\n",
    "        global reserve_cash\n",
    "        amount_you_can_buy = float(self.amount_to_spend)/float(self.ask_price)\n",
    "        amount_rounded = round(amount_you_can_buy)\n",
    "        if amount_rounded < 1:\n",
    "            pass\n",
    "        else:\n",
    "            print(f\"I am buying {amount_rounded} of {self.symbol}\")\n",
    "            reserve_cash = reserve_cash - self.amount_to_spend\n",
    "            \n",
    "        self.amount_to_spend = None\n",
    "        \n",
    "\n",
    "    def print_variable(self):\n",
    "        if self.amount_to_spend is not None:\n",
    "            print(f\"{self.symbol}: {self.amount_to_spend}\")\n",
    "    "
   ]
  },
  {
   "cell_type": "markdown",
   "id": "4f9ae267",
   "metadata": {
    "lines_to_next_cell": 2
   },
   "source": [
    "## Staging Area\n",
    "    Sets Modules\n",
    "    Sets Global variables\n",
    "    Keeps time using time_wizard()\n",
    "    logs into Robinhood using rh_login()\n",
    "    pulls buying power info from account with get_money_in_account()\n",
    "    pulls stock data from API using get_top_100()\n",
    "    stock data goes into update_stock_classes()"
   ]
  },
  {
   "cell_type": "code",
   "execution_count": 9,
   "id": "e60d8c14",
   "metadata": {
    "lines_to_next_cell": 2
   },
   "outputs": [
    {
     "name": "stdout",
     "output_type": "stream",
     "text": [
      "TICK: 0 \n",
      " ----------------------------------------------------------------------------------------------------------------\n",
      "[]\n",
      "I pass the turn\n",
      "TICK: 1 \n",
      " ----------------------------------------------------------------------------------------------------------------\n",
      "[]\n",
      "I pass the turn\n",
      "TICK: 2 \n",
      " ----------------------------------------------------------------------------------------------------------------\n",
      "[]\n",
      "I pass the turn\n",
      "TICK: 3 \n",
      " ----------------------------------------------------------------------------------------------------------------\n",
      "[]\n",
      "I pass the turn\n",
      "TICK: 4 \n",
      " ----------------------------------------------------------------------------------------------------------------\n",
      "[<__main__.Stock object at 0x00000291041EA750>, <__main__.Stock object at 0x00000291041EACD0>]\n",
      "((0.01/0.01)*30000.0)/2\n",
      "((0.01/0.01)*30000.0)/2\n",
      "TICK: 5 \n",
      " ----------------------------------------------------------------------------------------------------------------\n",
      "I am buying 46 of MSFT\n",
      "I am buying 54 of META\n",
      "[]\n",
      "I pass the turn\n",
      "TICK: 1 \n",
      " ----------------------------------------------------------------------------------------------------------------\n",
      "[<__main__.Stock object at 0x00000291041EAC10>]\n",
      "((0.01/0.01)*0.0)/1\n",
      "TICK: 2 \n",
      " ----------------------------------------------------------------------------------------------------------------\n",
      "[<__main__.Stock object at 0x00000291041EAC10>]\n",
      "((0.01/0.01)*0.0)/1\n",
      "TICK: 3 \n",
      " ----------------------------------------------------------------------------------------------------------------\n",
      "[<__main__.Stock object at 0x00000291041EAC10>]\n",
      "((0.01/0.01)*0.0)/1\n",
      "TICK: 4 \n",
      " ----------------------------------------------------------------------------------------------------------------\n",
      "[]\n",
      "I pass the turn\n",
      "TICK: 5 \n",
      " ----------------------------------------------------------------------------------------------------------------\n",
      "[]\n",
      "I pass the turn\n",
      "TICK: 1 \n",
      " ----------------------------------------------------------------------------------------------------------------\n",
      "[<__main__.Stock object at 0x00000291041EACD0>]\n",
      "((0.01/0.01)*0.0)/1\n",
      "TICK: 2 \n",
      " ----------------------------------------------------------------------------------------------------------------\n",
      "[]\n",
      "I pass the turn\n",
      "TICK: 3 \n",
      " ----------------------------------------------------------------------------------------------------------------\n",
      "[]\n",
      "I pass the turn\n",
      "TICK: 4 \n",
      " ----------------------------------------------------------------------------------------------------------------\n",
      "[]\n",
      "I pass the turn\n"
     ]
    },
    {
     "ename": "KeyboardInterrupt",
     "evalue": "",
     "output_type": "error",
     "traceback": [
      "\u001b[1;31m-------------------------------------------------------\u001b[0m",
      "\u001b[1;31mKeyboardInterrupt\u001b[0m     Traceback (most recent call last)",
      "Cell \u001b[1;32mIn[9], line 29\u001b[0m\n\u001b[0;32m     25\u001b[0m \u001b[38;5;28;01melse\u001b[39;00m:\n\u001b[0;32m     26\u001b[0m     \u001b[38;5;28mprint\u001b[39m(\u001b[38;5;124m\"\u001b[39m\u001b[38;5;124mI pass the turn\u001b[39m\u001b[38;5;124m\"\u001b[39m)\n\u001b[1;32m---> 29\u001b[0m time\u001b[38;5;241m.\u001b[39msleep(\u001b[38;5;241m5\u001b[39m)\n",
      "\u001b[1;31mKeyboardInterrupt\u001b[0m: "
     ]
    }
   ],
   "source": [
    "import os\n",
    "import robin_stocks.robinhood as rs\n",
    "from dotenv import load_dotenv\n",
    "import json\n",
    "import math\n",
    "\n",
    "#Pre-Game Actions/Values\n",
    "rh_login()\n",
    "time_count = 0\n",
    "bought_stocks = {}\n",
    "stocks_list = {}\n",
    "reserve_cash = float(30000)\n",
    "positive_sin_value = []\n",
    "\n",
    "#Main Phase\n",
    "while True: \n",
    "    print(f\"TICK: {time_count} \\n ----------------------------------------------------------------------------------------------------------------\")\n",
    "    time_count = time_wizard(time_count)\n",
    "    #get_money_in_account()\n",
    "    update_stock_classes(get_top_100())\n",
    "    \n",
    "    print(positive_sin_value)\n",
    "    if positive_sin_value != []:\n",
    "        set_buy_ratio()\n",
    "    else:\n",
    "        print(\"I pass the turn\")\n",
    "        \n",
    "    \n",
    "    time.sleep(5)"
   ]
  },
  {
   "cell_type": "markdown",
   "id": "10687fc0",
   "metadata": {},
   "source": [
    "## Testing Area"
   ]
  },
  {
   "cell_type": "code",
   "execution_count": null,
   "id": "e5d2dfd4",
   "metadata": {},
   "outputs": [],
   "source": [
    "profile_info = rs.build_user_profile()\n",
    "cash_amount = float(profile_info['cash'])\n",
    "print(cash_amount)"
   ]
  },
  {
   "cell_type": "markdown",
   "id": "fddcf01d",
   "metadata": {},
   "source": [
    "##  Dictionary/List Reminders\n",
    "positive_sin_value = classes with positive sin value\n",
    "\n",
    "stocks_list (x:y), x= stock symbol, y=associated stock class\n",
    "\n",
    "stockdict, check Top_100.json"
   ]
  },
  {
   "cell_type": "markdown",
   "id": "08d179d1",
   "metadata": {},
   "source": [
    "## This to change before Release\n",
    "1. set reserve_cash to pull from the server, not be set like for testing\n",
    "        -need to choose between pulling reserve cash only once at beginning of day or possibly repulling after a successful sell to basically do a doublecheck\n",
    "        \n",
    "2."
   ]
  },
  {
   "cell_type": "code",
   "execution_count": null,
   "id": "e07d3118",
   "metadata": {},
   "outputs": [],
   "source": []
  }
 ],
 "metadata": {
  "jupytext": {
   "cell_metadata_filter": "-all",
   "main_language": "python",
   "notebook_metadata_filter": "-all"
  },
  "kernelspec": {
   "display_name": "Python 3 (ipykernel)",
   "language": "python",
   "name": "python3"
  },
  "language_info": {
   "codemirror_mode": {
    "name": "ipython",
    "version": 3
   },
   "file_extension": ".py",
   "mimetype": "text/x-python",
   "name": "python",
   "nbconvert_exporter": "python",
   "pygments_lexer": "ipython3",
   "version": "3.11.3"
  }
 },
 "nbformat": 4,
 "nbformat_minor": 5
}
