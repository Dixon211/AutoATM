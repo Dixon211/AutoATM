{
 "cells": [
  {
   "cell_type": "code",
   "execution_count": 1,
   "id": "cf2ce4c5",
   "metadata": {},
   "outputs": [],
   "source": [
    "from dotenv import load_dotenv\n",
    "import robin_stocks.robinhood as rs\n",
    "import os\n",
    "import requests\n",
    "import time\n",
    "import json\n",
    "import smtplib\n",
    "import math\n",
    "from email.mime.text import MIMEText\n",
    "from email.mime.multipart import MIMEMultipart\n",
    "import pathlib"
   ]
  },
  {
   "cell_type": "markdown",
   "id": "51ebf1a1",
   "metadata": {},
   "source": [
    "## Global To-do\n",
    "\n",
    "1. Setup a ledger for when trades are made with which stock made the trade\n",
    "        -Need to make sure ledger doesn't overwrite the previous ledger, DONE\n",
    "2. Check for issues in Stock class\n",
    "3. update data distribution with clause for if data doesn't come in\n",
    "4. Inquire/study for a better equation for reserve_cash distribution\n",
    "5. Need to make the ledger into a .txt file and then attach to email\n",
    "6. Need to set limit for selling as the sell can now happen anytime to sin goes negative. Need to figure out if I should keep this or not."
   ]
  },
  {
   "cell_type": "markdown",
   "id": "4ae7e75e",
   "metadata": {},
   "source": [
    "## Testing"
   ]
  },
  {
   "cell_type": "code",
   "execution_count": 2,
   "id": "e5d2dfd4",
   "metadata": {},
   "outputs": [],
   "source": [
    "def create_test_env(top_100):\n",
    "    test_folder = pathlib.Path(\"./Test_info\")\n",
    "    file_list = os.listdir(test_folder)\n",
    "    testing_folder = \"./Test_info\"\n",
    "    \n",
    "    if file_list == []:\n",
    "        new_file_name = \"1000.json\"\n",
    "    else:\n",
    "        last_file = str(file_list[-1])\n",
    "        seperated_name = last_file.split(\".\")\n",
    "        file_num = seperated_name[0].split(\"\\\\\")[-1]\n",
    "        file_name = int(file_num)\n",
    "        file_name = file_name + 1\n",
    "        new_file_name = f\"{file_name}.json\"\n",
    "        print(file_num)\n",
    "        print(file_name)\n",
    "        \n",
    "    file_path = f\"{testing_folder}/{new_file_name}\"\n",
    "    \n",
    "        \n",
    "    with open(file_path, \"w+\") as file:\n",
    "        json.dump(top_100, file)\n",
    "        \n",
    "        \n",
    "    \n",
    "    \n",
    "    "
   ]
  },
  {
   "cell_type": "code",
   "execution_count": null,
   "id": "e706f33e",
   "metadata": {},
   "outputs": [],
   "source": []
  },
  {
   "cell_type": "markdown",
   "id": "f3b05068",
   "metadata": {},
   "source": [
    "## Initialization and Active Functions\n",
    "    Functions used when starting and in use"
   ]
  },
  {
   "cell_type": "code",
   "execution_count": 3,
   "id": "d4756645",
   "metadata": {},
   "outputs": [],
   "source": [
    "def rh_login():\n",
    "    load_dotenv()\n",
    "    robin_user = os.environ.get(\"robinhood_username\")\n",
    "    robin_pass = os.environ.get(\"robinhood_password\")\n",
    "    rs.login(username=robin_user,\n",
    "             password=robin_pass,\n",
    "             expiresIn=86400,\n",
    "             by_sms=True)"
   ]
  },
  {
   "cell_type": "code",
   "execution_count": 4,
   "id": "41671af5",
   "metadata": {},
   "outputs": [],
   "source": [
    "def time_wizard(time_count):\n",
    "    time_count += 1\n",
    "    if time_count == 10:\n",
    "        time_count = 1\n",
    "    return time_count"
   ]
  },
  {
   "cell_type": "code",
   "execution_count": 5,
   "id": "84ef996f",
   "metadata": {},
   "outputs": [],
   "source": [
    "def get_top_100():\n",
    "    top100_raw_dict = rs.get_top_100()\n",
    "    top_100_file_path= \"./Top_100.json\"\n",
    "    with open(top_100_file_path, \"w+\") as file:\n",
    "        json.dump(top100_raw_dict, file)\n",
    "    return(top100_raw_dict)"
   ]
  },
  {
   "cell_type": "code",
   "execution_count": 6,
   "id": "1b8ed9b6",
   "metadata": {},
   "outputs": [],
   "source": [
    "def get_money_in_account():\n",
    "    global reserve_cash\n",
    "    profile_info = rs.build_user_profile()\n",
    "    reserve_cash = float(profile_info['cash'])-25000 #to account for buy-in money that cannot be traded\n",
    "    \n",
    "    if start_cash is None:\n",
    "        start_cash = float(profile_info['cash'])-25000"
   ]
  },
  {
   "cell_type": "code",
   "execution_count": 7,
   "id": "67c1fe97",
   "metadata": {},
   "outputs": [],
   "source": [
    "def set_buy_ratio():\n",
    "    global positive_sin_value\n",
    "    global reserve_cash\n",
    "    global start_cash\n",
    "    value_list = []\n",
    "    \n",
    "    for stock_class in positive_sin_value:\n",
    "        value_list.append(stock_class.sin_factor)\n",
    "        \n",
    "    average_sin = sum(value_list) / len(value_list)\n",
    "    \n",
    "    for stock_class in positive_sin_value:\n",
    "        dollar_amount = ((stock_class.sin_factor/average_sin)*reserve_cash)/len(value_list)\n",
    "        variable_value = (reserve_cash/start_cash)\n",
    "        if variable_value < .5:\n",
    "            stock_class.amount_to_spend = dollar_amount\n",
    "        else:\n",
    "            stock_class.amount_to_spend = dollar_amount*(variable_value/2)\n",
    "    \n",
    "        \n",
    "            stock_class.sin_factor = dollar_amount\n",
    "            \n",
    "    positive_sin_value = []\n",
    "        \n",
    "        \n",
    "    \n",
    "        "
   ]
  },
  {
   "cell_type": "code",
   "execution_count": 8,
   "id": "7992ab58",
   "metadata": {},
   "outputs": [],
   "source": [
    "def add_to_log(log_entry):\n",
    "    log_file_path = \"./stock_log.json\"\n",
    "    with open(log_file_path, \"a\") as file:\n",
    "        json.dump(log_entry, file)\n",
    "        file.write('\\n')\n",
    "        "
   ]
  },
  {
   "cell_type": "code",
   "execution_count": 9,
   "id": "5a486245",
   "metadata": {},
   "outputs": [],
   "source": [
    "def update_current_time():\n",
    "    global local_time\n",
    "    global current_time\n",
    "    local_time = time.localtime()\n",
    "    current_time = time.strftime(\"%H:%M:%S\", local_time)\n",
    "    #hours are in military time\n",
    "    the_hour = local_time.tm_hour\n",
    "    the_minutes = local_time.tm_min\n",
    "    \n",
    "    if the_hour >= 15 and the_minutes >= 30:\n",
    "        close_out_accounts()"
   ]
  },
  {
   "cell_type": "markdown",
   "id": "91f7d603",
   "metadata": {},
   "source": [
    "## Deinitialization\n",
    "    functions used to close out"
   ]
  },
  {
   "cell_type": "code",
   "execution_count": 10,
   "id": "ac605bec",
   "metadata": {},
   "outputs": [],
   "source": [
    "def send_ledger_email():\n",
    "    global start_cash\n",
    "    global reserve_cash\n",
    "    load_dotenv()\n",
    "    my_email = os.environ.get(\"gmail\")\n",
    "    my_password = os.environ.get(\"gmail_password\")\n",
    "\n",
    "\n",
    "    sender_email = my_email\n",
    "    receiver_email = my_email\n",
    "    email_subject = \"Daily Stock Bot Report\"\n",
    "    json_file_path = \"SinTest/stock_log.json\"\n",
    "    with open(json_file_path, 'r') as log_file:\n",
    "        json_contents = json.load(log_file)\n",
    "    email_message = f\"Todays profit/loss: {(reserve_cash - start_cash)}\"\n",
    "        \n",
    "\n",
    "    msg = MIMEMultipart()\n",
    "    msg['From'] = sender_email\n",
    "    msg['To'] = receiver_email\n",
    "    msg['Subject'] = email_subject\n",
    "\n",
    "    msg.attach(MIMEText(email_message, 'plain'))\n",
    "\n",
    "    smtp_server = 'smtp.gmail.com'\n",
    "    smtp_port = 465\n",
    "    smtp_connection = smtplib.SMTP_SSL(smtp_server, smtp_port)\n",
    "\n",
    "    smtp_connection.login(my_email, my_password)\n",
    "\n",
    "    smtp_connection.sendmail(sender_email, receiver_email, msg.as_string())\n",
    "\n",
    "    smtp_connection.quit()"
   ]
  },
  {
   "cell_type": "markdown",
   "id": "97ae7808",
   "metadata": {},
   "source": [
    "## Need to do\n",
    "-Need to clear JSON file at EOD, am not right now for testing"
   ]
  },
  {
   "cell_type": "code",
   "execution_count": 11,
   "id": "19304143",
   "metadata": {},
   "outputs": [],
   "source": [
    "def close_out_accounts():\n",
    "    global current_time\n",
    "    global stocks_list\n",
    "    global reserve_cash\n",
    "    global start_cash\n",
    "    \n",
    "    for symbol, stock in stocks_list.items():\n",
    "        if stock.shares >= 1:\n",
    "            stock.sell\n",
    "        else:\n",
    "            pass\n",
    "        \n",
    "    EOD_ledger_input = f\"{current_time}: Closing out for the day. Here is the stocks_lists: {stocks_list}\"\n",
    "    EOD_reserve_cash =f\"Final Results; Reserve Cash: {reserve_cash}, Total Profit/Loss: {reserve_cash - start_cash}\"\n",
    "    add_to_log(EOD_ledger_input)\n",
    "    add_to_log(EOD_reserve_cash)\n",
    "    \n",
    "    send_ledger_email()\n",
    "    \n",
    "    \n",
    "    sys.exit()"
   ]
  },
  {
   "cell_type": "markdown",
   "id": "dbb76d2d",
   "metadata": {},
   "source": [
    "## Data Distribution\n",
    "    receives data from get_top_100()\n",
    "    makes stock classes if no stocks in list\n",
    "    looks for stock symbol in stock class and will update each class if they are in stocks_list"
   ]
  },
  {
   "cell_type": "code",
   "execution_count": 12,
   "id": "3c455453",
   "metadata": {},
   "outputs": [],
   "source": [
    "def update_stock_classes(top100_raw_dict):\n",
    "    global stocks_list\n",
    "    dict_symbol_list = []\n",
    "    \n",
    "    for stock_dict in top100_raw_dict:\n",
    "        ssymbol = stock_dict[\"symbol\"]\n",
    "        dict_symbol_list.append(ssymbol)\n",
    "        \n",
    "    for symbol, stock in stocks_list.items():\n",
    "        if symbol not in dict_symbol_list:\n",
    "            stock.sell()\n",
    "            stock.price_history = []\n",
    "            \n",
    "    for stock_dict in top100_raw_dict: \n",
    "        if stock_dict[\"symbol\"] not in stocks_list:\n",
    "            stock_class = Stock(stock_dict)\n",
    "       \n",
    "        else:\n",
    "            for stock_name, stock_class in stocks_list.items():\n",
    "                if stock_name == stock_dict[\"symbol\"]: \n",
    "                    stock_class.ask_price = stock_dict.get(\"ask_price\")\n",
    "                    stock_class.update()\n",
    "        \n",
    "    \n",
    "            \n",
    "    "
   ]
  },
  {
   "cell_type": "markdown",
   "id": "105dd53d",
   "metadata": {},
   "source": [
    "## Stock Class\n",
    "    When class is created all stock data is turned into class variables (Thank you Julian)\n",
    "    class is added key, value as symbol, class to the stocks_list dictionary\n",
    "    update method is invoked from update_stock_classes()\n",
    "    update method includes the equation_of_sin() method    "
   ]
  },
  {
   "cell_type": "code",
   "execution_count": 13,
   "id": "e949aa33",
   "metadata": {},
   "outputs": [],
   "source": [
    "class Stock:\n",
    "    #Name\n",
    "    def __str__(self):\n",
    "        return self.symbol\n",
    "\n",
    "    #Enter the Battlefield\n",
    "    def __init__(self, stock_dict):\n",
    "        # set the input items as class members\n",
    "        for key, value in stock_dict.items():\n",
    "            exec(\"self.\" + key + \" = value\")\n",
    "            \n",
    "    #Key Words\n",
    "        self.stock_dict = stock_dict\n",
    "        stocks_list[self.symbol] = self #add to dictionary with key as symbol, and value as the class\n",
    "        self.shares = 0\n",
    "        self.price_history=[]\n",
    "        self.sin_factor = None\n",
    "        self.amount_to_spend = None\n",
    "        self.price_history.append(self.ask_price)\n",
    "        self.money_spent = 0.0\n",
    "        self.loss_tick = 0\n",
    "        \n",
    "        \n",
    "        \n",
    "    #Abilities\n",
    "   \n",
    "    def update(self):\n",
    "        global time_count\n",
    "        self.price_history.append(self.ask_price)\n",
    "        \n",
    "        #makes the program have at least 5 data points before moving to the next step\n",
    "        if len(self.price_history) >= 6:\n",
    "            self.price_history.pop(0)\n",
    "        else:\n",
    "            pass\n",
    "        \n",
    "\n",
    "        \n",
    "        if len(self.price_history) >= 5 and time_count == 5:\n",
    "            self.equation_of_sin()\n",
    "            \n",
    "        if self.amount_to_spend is not None:\n",
    "            self.buy()\n",
    "            \n",
    "        \n",
    "        if self.sin_factor is not None and self.sin_factor < 0 and self.shares != 0:\n",
    "            self.sell()\n",
    "        \n",
    "        \n",
    "    \n",
    "    def equation_of_sin(self):\n",
    "        self.a = len(self.price_history)\n",
    "        self.price_differential = float(self.price_history[-1]) - float(self.price_history[0])\n",
    "        self.b = self.price_differential\n",
    "        self.c = math.sqrt(self.b**2 + self.a**2)\n",
    "        \n",
    "        self.sin_factor = round((self.b / self.c), 2)\n",
    "        \n",
    "        if self.sin_factor > 0:\n",
    "            positive_sin_value.append(self)\n",
    "            \n",
    "    def buy(self):\n",
    "        global reserve_cash\n",
    "        global current_time\n",
    "        amount_you_can_buy = float(self.amount_to_spend)/float(self.ask_price)\n",
    "        amount_rounded = round(amount_you_can_buy)\n",
    "        cost_to_buy= round((float(amount_rounded)*float(self.ask_price)), 2)\n",
    "        if amount_rounded < 1 or cost_to_buy > reserve_cash:\n",
    "            pass\n",
    "        else:\n",
    "            #print(f\"I am buying {amount_rounded} of {self.symbol}\")\n",
    "            reserve_cash = reserve_cash - cost_to_buy\n",
    "            self.shares += amount_rounded\n",
    "            self.money_spent += cost_to_buy\n",
    "           \n",
    "            buy_log_entry= f\"{current_time}: Bought {amount_rounded} shares of {self.symbol} for {cost_to_buy}, Available Funds: {reserve_cash}\"\n",
    "            add_to_log(buy_log_entry)\n",
    "            \n",
    "            \n",
    "        self.amount_to_spend = None\n",
    "        \n",
    "        \n",
    "    def sell(self):\n",
    "        global reserve_cash\n",
    "        sell_value = float(self.ask_price)*float(self.shares)\n",
    "        reserve_cash = reserve_cash + float(sell_value)\n",
    "        profit_loss = sell_value - self.money_spent\n",
    "        \n",
    "        sell_log_entry = f\"{current_time}: Sold {self.shares} shares of {self.symbol} for {sell_value}, Available funds: {reserve_cash}, Profit/Loss: {profit_loss}\"\n",
    "        add_to_log(sell_log_entry)\n",
    "        \n",
    "        self.shares = 0\n",
    "        self.money_spent = 0.0\n",
    "\n",
    "    def print_variable(self):\n",
    "        print(f\"{self.symbol}: {self.sin_factor}\")\n",
    "    "
   ]
  },
  {
   "cell_type": "markdown",
   "id": "4f9ae267",
   "metadata": {
    "lines_to_next_cell": 2
   },
   "source": [
    "## Staging Area\n",
    "    Sets Modules\n",
    "    Sets Global variables\n",
    "    Keeps time using time_wizard()\n",
    "    logs into Robinhood using rh_login()\n",
    "    pulls buying power info from account with get_money_in_account()\n",
    "    pulls stock data from API using get_top_100()\n",
    "    stock data goes into update_stock_classes()\n",
    "    when stocks show positive sin_value, it distributes reserve cash to the stock class for calulating buying"
   ]
  },
  {
   "cell_type": "code",
   "execution_count": 14,
   "id": "e60d8c14",
   "metadata": {
    "lines_to_next_cell": 2,
    "scrolled": true
   },
   "outputs": [
    {
     "name": "stdout",
     "output_type": "stream",
     "text": [
      "TICK: 0 \n",
      " ----------------------------------------------------------------------------------------------------------------\n",
      "[]\n",
      "TICK: 1 \n",
      " ----------------------------------------------------------------------------------------------------------------\n",
      "1000\n",
      "1001\n",
      "[]\n",
      "TICK: 2 \n",
      " ----------------------------------------------------------------------------------------------------------------\n",
      "1001\n",
      "1002\n",
      "[]\n",
      "TICK: 3 \n",
      " ----------------------------------------------------------------------------------------------------------------\n",
      "1002\n",
      "1003\n",
      "[]\n",
      "TICK: 4 \n",
      " ----------------------------------------------------------------------------------------------------------------\n",
      "1003\n",
      "1004\n",
      "[<__main__.Stock object at 0x000001F42333CE50>, <__main__.Stock object at 0x000001F42333F3D0>, <__main__.Stock object at 0x000001F4233745D0>, <__main__.Stock object at 0x000001F423374A50>]\n",
      "TICK: 5 \n",
      " ----------------------------------------------------------------------------------------------------------------\n",
      "1004\n",
      "1005\n",
      "[]\n",
      "TICK: 6 \n",
      " ----------------------------------------------------------------------------------------------------------------\n",
      "1005\n",
      "1006\n",
      "[]\n"
     ]
    },
    {
     "ename": "KeyboardInterrupt",
     "evalue": "",
     "output_type": "error",
     "traceback": [
      "\u001b[1;31m-----------------------------------------------\u001b[0m",
      "\u001b[1;31mKeyboardInterrupt\u001b[0mTraceback (most recent call last)",
      "Cell \u001b[1;32mIn[14], line 29\u001b[0m\n\u001b[0;32m     24\u001b[0m \u001b[38;5;28;01mif\u001b[39;00m positive_sin_value \u001b[38;5;241m!=\u001b[39m []:\n\u001b[0;32m     25\u001b[0m     set_buy_ratio()\n\u001b[1;32m---> 29\u001b[0m \u001b[43mtime\u001b[49m\u001b[38;5;241;43m.\u001b[39;49m\u001b[43msleep\u001b[49m\u001b[43m(\u001b[49m\u001b[38;5;241;43m5\u001b[39;49m\u001b[43m)\u001b[49m\n",
      "\u001b[1;31mKeyboardInterrupt\u001b[0m: "
     ]
    }
   ],
   "source": [
    "#Pre-Game Actions/Values\n",
    "rh_login()\n",
    "time_count = 0\n",
    "gains_losses = {}\n",
    "stocks_list = {}\n",
    "reserve_cash = float(30000)\n",
    "positive_sin_value = []\n",
    "local_time = time.localtime()\n",
    "current_time = time.strftime(\"%H:%M:%S\", local_time)\n",
    "start_cash = float(30000)\n",
    "\n",
    "#get_money_in_account()\n",
    "add_to_log(reserve_cash)\n",
    "\n",
    "\n",
    "#Main Phase\n",
    "while True: \n",
    "    print(f\"TICK: {time_count} \\n ----------------------------------------------------------------------------------------------------------------\")\n",
    "    time_count = time_wizard(time_count)\n",
    "    update_current_time()\n",
    "    create_test_env(get_top_100())\n",
    "    update_stock_classes(get_top_100())\n",
    "    print(positive_sin_value)\n",
    "    if positive_sin_value != []:\n",
    "        set_buy_ratio()\n",
    "    \n",
    "        \n",
    "    \n",
    "    time.sleep(5)"
   ]
  },
  {
   "cell_type": "markdown",
   "id": "fddcf01d",
   "metadata": {},
   "source": [
    "##  Dictionary/List Reminders\n",
    "positive_sin_value = classes with positive sin value\n",
    "\n",
    "stocks_list (x:y), x= stock symbol, y=associated stock class\n",
    "\n",
    "stockdict, check Top_100.json"
   ]
  },
  {
   "cell_type": "markdown",
   "id": "08d179d1",
   "metadata": {},
   "source": [
    "## This to change before Release\n",
    "1. set reserve_cash to pull from the server, not be set like for testing\n",
    "        -need to choose between pulling reserve cash only once at beginning of day or possibly repulling after a successful sell to basically do a doublecheck\n",
    "        \n",
    "2.Need to set actual buy and sell methods to interact with RH\n",
    "\n"
   ]
  },
  {
   "cell_type": "markdown",
   "id": "1288ea9c",
   "metadata": {},
   "source": [
    "## Equation for dividing available money between available stocks\n",
    "s = personal stock sin\n",
    "a = average stock sin\n",
    "m = money in pool\n",
    "n = number of stocks with a positive sin\n",
    "\n",
    "(((s/a)*m)/n)s"
   ]
  },
  {
   "cell_type": "markdown",
   "id": "a3b26a74",
   "metadata": {},
   "source": [
    "Look up CMP magic method for comparing stock classes \n",
    "Look up __setattr__(self, name, value) for stock classes instead of exec function\n",
    "Self-study: sets"
   ]
  }
 ],
 "metadata": {
  "jupytext": {
   "cell_metadata_filter": "-all",
   "main_language": "python",
   "notebook_metadata_filter": "-all"
  },
  "kernelspec": {
   "display_name": "Python 3 (ipykernel)",
   "language": "python",
   "name": "python3"
  },
  "language_info": {
   "codemirror_mode": {
    "name": "ipython",
    "version": 3
   },
   "file_extension": ".py",
   "mimetype": "text/x-python",
   "name": "python",
   "nbconvert_exporter": "python",
   "pygments_lexer": "ipython3",
   "version": "3.11.3"
  }
 },
 "nbformat": 4,
 "nbformat_minor": 5
}
