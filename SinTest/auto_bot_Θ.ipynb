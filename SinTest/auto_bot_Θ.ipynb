{
 "cells": [
  {
   "cell_type": "code",
   "execution_count": 1,
   "id": "cf2ce4c5",
   "metadata": {},
   "outputs": [],
   "source": [
    "from dotenv import load_dotenv\n",
    "import robin_stocks.robinhood as rs\n",
    "import os\n",
    "import requests\n",
    "import time\n",
    "import json\n",
    "import smtplib\n",
    "from email.mime.text import MIMEText\n",
    "from email.mime.multipart import MIMEMultipart"
   ]
  },
  {
   "cell_type": "markdown",
   "id": "51ebf1a1",
   "metadata": {},
   "source": [
    "## Global To-do\n",
    "\n",
    "1. Setup a ledger for when trades are made with which stock made the trade\n",
    "        -Need to make sure ledger doesn't overwrite the previous ledger, DONE\n",
    "2. Check for issues in Stock class\n",
    "3. update data distribution with clause for if data doesn't come in\n",
    "4. Inquire/study for a better equation for reserve_cash distribution"
   ]
  },
  {
   "cell_type": "markdown",
   "id": "f3b05068",
   "metadata": {},
   "source": [
    "## Initialization and Active Functions\n",
    "    Functions used when starting and in use"
   ]
  },
  {
   "cell_type": "code",
   "execution_count": 2,
   "id": "d4756645",
   "metadata": {},
   "outputs": [],
   "source": [
    "def rh_login():\n",
    "    load_dotenv()\n",
    "    robin_user = os.environ.get(\"robinhood_username\")\n",
    "    robin_pass = os.environ.get(\"robinhood_password\")\n",
    "    rs.login(username=robin_user,\n",
    "             password=robin_pass,\n",
    "             expiresIn=86400,\n",
    "             by_sms=True)"
   ]
  },
  {
   "cell_type": "code",
   "execution_count": 3,
   "id": "41671af5",
   "metadata": {},
   "outputs": [],
   "source": [
    "def time_wizard(time_count):\n",
    "    time_count += 1\n",
    "    if time_count == 6:\n",
    "        time_count = 1\n",
    "    #print(f\"Time Count: {time_count}\")\n",
    "    return time_count"
   ]
  },
  {
   "cell_type": "code",
   "execution_count": 4,
   "id": "84ef996f",
   "metadata": {},
   "outputs": [],
   "source": [
    "def get_top_100():\n",
    "    top100_raw_dict = rs.get_top_100()\n",
    "    top_100_file_path= \"./Top_100.json\"\n",
    "    with open(top_100_file_path, \"w+\") as file:\n",
    "        json.dump(top100_raw_dict, file)\n",
    "    #print(\"updating raw\")\n",
    "    return(top100_raw_dict)"
   ]
  },
  {
   "cell_type": "code",
   "execution_count": 5,
   "id": "1b8ed9b6",
   "metadata": {},
   "outputs": [],
   "source": [
    "def get_money_in_account():\n",
    "    global reserve_cash\n",
    "    profile_info = rs.build_user_profile()\n",
    "    reserve_cash = float(profile_info['cash'])-25000 #to account for buy-in money that cannot be traded"
   ]
  },
  {
   "cell_type": "code",
   "execution_count": 6,
   "id": "67c1fe97",
   "metadata": {},
   "outputs": [],
   "source": [
    "def set_buy_ratio():\n",
    "    global positive_sin_value\n",
    "    global reserve_cash\n",
    "    value_list = []\n",
    "    \n",
    "    for stock_class in positive_sin_value:\n",
    "        value_list.append(stock_class.sin_factor)\n",
    "    #print(f\"value_list: {value_list}\")\n",
    "        \n",
    "    average_sin = sum(value_list) / len(value_list)\n",
    "    #print(f\"average_sin: {average_sin}\")\n",
    "    \n",
    "    for stock_class in positive_sin_value:\n",
    "        #print(f\"((({stock_class.sin_factor}/{average_sin})*{reserve_cash})/{len(value_list)})*{stock_class.sin_factor}\")\n",
    "        stock_class.amount_to_spend = (((stock_class.sin_factor/average_sin)*reserve_cash)/len(value_list)*stock_class.sin_factor)\n",
    "       # print(stock_class.amount_to_spend)\n",
    "        \n",
    "    positive_sin_value = []\n",
    "        \n",
    "        \n",
    "    \n",
    "        "
   ]
  },
  {
   "cell_type": "code",
   "execution_count": 7,
   "id": "7992ab58",
   "metadata": {},
   "outputs": [],
   "source": [
    "def add_to_log(log_entry):\n",
    "    log_file_path = \"./stock_log.json\"\n",
    "    with open(log_file_path, \"a\") as file:\n",
    "        json.dump(log_entry, file)\n",
    "        file.write('\\n')\n",
    "        "
   ]
  },
  {
   "cell_type": "code",
   "execution_count": 8,
   "id": "5a486245",
   "metadata": {},
   "outputs": [],
   "source": [
    "def update_current_time():\n",
    "    global local_time\n",
    "    global current_time\n",
    "    local_time = time.localtime()\n",
    "    current_time = time.strftime(\"%H:%M:%S\", local_time)\n",
    "    #hours are in military time\n",
    "    the_hour = local_time.tm_hour\n",
    "    the_minutes = local_time.tm_min\n",
    "    \n",
    "    if the_hour >= 15 and the_minutes >= 30:\n",
    "        close_out_accounts()"
   ]
  },
  {
   "cell_type": "markdown",
   "id": "6fdad21f",
   "metadata": {},
   "source": [
    "## Deinitialization\n",
    "    functions used to close out"
   ]
  },
  {
   "cell_type": "code",
   "execution_count": 9,
   "id": "f1ae57f1",
   "metadata": {},
   "outputs": [],
   "source": [
    "def send_ledger_email():\n",
    "    load_dotenv()\n",
    "    my_email = os.environ.get(\"gmail\")\n",
    "    my_password = os.environ.get(\"gmail_password\")\n",
    "\n",
    "\n",
    "    sender_email = my_email\n",
    "    receiver_email = my_email\n",
    "    email_subject = \"Daily Stock Bot Report\"\n",
    "    log_file_path = \"SinTest/stock_log.json\"\n",
    "    with open(log_file_path, 'r') as log_file:\n",
    "        file_contents = json.load(log_file)\n",
    "        email_message = json.dumps(file_contents)\n",
    "\n",
    "    msg = MIMEMultipart()\n",
    "    msg['From'] = sender_email\n",
    "    msg['To'] = receiver_email\n",
    "    msg['Subject'] = email_subject\n",
    "\n",
    "    # Attach the email body as a plain text MIME part\n",
    "    msg.attach(MIMEText(email_message, 'plain'))\n",
    "\n",
    "    smtp_server = 'smtp.gmail.com'\n",
    "    smtp_port = 465\n",
    "    smtp_connection = smtplib.SMTP_SSL(smtp_server, smtp_port)\n",
    "\n",
    "    smtp_connection.login(my_email, my_password)\n",
    "\n",
    "    smtp_connection.sendmail(sender_email, receiver_email, msg.as_string())\n",
    "\n",
    "    smtp_connection.quit()"
   ]
  },
  {
   "cell_type": "markdown",
   "id": "cbd43f59",
   "metadata": {},
   "source": [
    "## Need to do\n",
    "-Need to clear JSON file at EOD, am not right now for testing"
   ]
  },
  {
   "cell_type": "code",
   "execution_count": 10,
   "id": "71f74856",
   "metadata": {},
   "outputs": [],
   "source": [
    "def close_out_accounts():\n",
    "    global current_time\n",
    "    global_stocks_list\n",
    "    global reserve_cash\n",
    "    global start_cash\n",
    "    \n",
    "    for symbol, stock in stocks_list:\n",
    "        if stock.shares >= 1:\n",
    "            stock.sell\n",
    "        else:\n",
    "            pass\n",
    "        \n",
    "    EOD_ledger_input = f\"{current_time}: Closing out for the day. Here is the stocks_lists: {stocks_list}\"\n",
    "    EOD_reserve_cash =f\"Final Results; Reserve Cash: {reserve_cash}, Total Profit/Loss: {reserve_cash - start_cash}\"\n",
    "    add_to_log(EOD_ledger_input)\n",
    "    add_to_log(EOD_reserve_cash)\n",
    "    \n",
    "    send_ledger_email()\n",
    "    \n",
    "    \n",
    "    sys.exit()"
   ]
  },
  {
   "cell_type": "markdown",
   "id": "dbb76d2d",
   "metadata": {},
   "source": [
    "## Data Distribution\n",
    "    receives data from get_top_100()\n",
    "    makes stock classes if no stocks in list\n",
    "    looks for stock symbol in stock class and will update each class if they are in stocks_list"
   ]
  },
  {
   "cell_type": "code",
   "execution_count": 11,
   "id": "3c455453",
   "metadata": {},
   "outputs": [],
   "source": [
    "def update_stock_classes(top100_raw_dict):\n",
    "    global stocks_list\n",
    "    for stock_dict in top100_raw_dict:\n",
    "        if stock_dict[\"symbol\"] not in stocks_list:\n",
    "            stock_class = Stock(stock_dict)\n",
    "\n",
    "    #print(stocks_list)         \n",
    "        else:\n",
    "            for stock_name, stock_class in stocks_list.items():\n",
    "                if stock_name == stock_dict[\"symbol\"]: \n",
    "                    stock_class.ask_price = stock_dict.get(\"ask_price\")\n",
    "                    stock_class.update()\n",
    "                    #stock_class.print_variable()\n",
    "            \n",
    "    "
   ]
  },
  {
   "cell_type": "markdown",
   "id": "105dd53d",
   "metadata": {},
   "source": [
    "## Stock Class\n",
    "    When class is created all stock data is turned into class variables (Thank you Julian)\n",
    "    class is added key, value as symbol, class to the stocks_list dictionary\n",
    "    update method is invoked from update_stock_classes()\n",
    "    update method includes the equation_of_sin() method    "
   ]
  },
  {
   "cell_type": "code",
   "execution_count": 12,
   "id": "e949aa33",
   "metadata": {},
   "outputs": [],
   "source": [
    "class Stock:\n",
    "    #Name\n",
    "    def __str__(self):\n",
    "        return self.symbol\n",
    "\n",
    "    #Enter the Battlefield\n",
    "    def __init__(self, stock_dict):\n",
    "        # set the input items as class members\n",
    "        for key, value in stock_dict.items():\n",
    "            exec(\"self.\" + key + \" = value\")\n",
    "            \n",
    "    #Key Words\n",
    "        self.stock_dict = stock_dict\n",
    "        stocks_list[self.symbol] = self #add to dictionary with key as symbol, and value as the class\n",
    "        self.state = \"UNBOUGHT\"\n",
    "        self.shares = 0\n",
    "        self.price_history=[]\n",
    "        self.sin_factor = None\n",
    "        self.amount_to_spend = None\n",
    "        self.price_history.append(self.ask_price)\n",
    "        \n",
    "        \n",
    "        \n",
    "    #Abilities\n",
    "   \n",
    "    def update(self):\n",
    "        self.price_history.append(self.ask_price)\n",
    "        \n",
    "        #makes the program have at least 5 data points before moving to the next step\n",
    "        if len(self.price_history) >= 6:\n",
    "            self.price_history.pop(0)\n",
    "        else:\n",
    "            pass\n",
    "        \n",
    "\n",
    "        \n",
    "        if len(self.price_history) >= 5:\n",
    "            self.equation_of_sin()\n",
    "            \n",
    "        if self.amount_to_spend is not None:\n",
    "            self.buy()\n",
    "        \n",
    "        if self.sin_factor is not None and self.sin_factor < 0:\n",
    "            self.sell()\n",
    "        \n",
    "        \n",
    "    \n",
    "    def equation_of_sin(self):\n",
    "        #pythagorean theorem\n",
    "        self.a = len(self.price_history)**2\n",
    "        self.price_differential = float(self.price_history[-1]) - float(self.price_history[0])\n",
    "        self.b = self.price_differential**2\n",
    "        self.c = math.sqrt(self.a + self.b)\n",
    "        \n",
    "        self.sin_factor = round((self.b / self.c), 2)\n",
    "        \n",
    "        if self.sin_factor > 0:\n",
    "            positive_sin_value.append(self)\n",
    "            \n",
    "    def buy(self):\n",
    "        global reserve_cash\n",
    "        global current_time\n",
    "        amount_you_can_buy = float(self.amount_to_spend)/float(self.ask_price)\n",
    "        amount_rounded = round(amount_you_can_buy)\n",
    "        if amount_rounded < 1:\n",
    "            pass\n",
    "        else:\n",
    "            print(f\"I am buying {amount_rounded} of {self.symbol}\")\n",
    "            reserve_cash = reserve_cash - (float(self.ask_price)*float(amount_rounded))\n",
    "            self.shares += amount_rounded\n",
    "            \n",
    "           \n",
    "            buy_log_entry= f\"{current_time}: Bought {amount_rounded} shares of {self.symbol} for {(float(self.ask_price)*float(amount_rounded))}, Available Funds: {reserve_cash}\"\n",
    "            add_to_log(buy_log_entry)\n",
    "            \n",
    "            \n",
    "        self.amount_to_spend = None\n",
    "        \n",
    "    def sell(self):\n",
    "        global reserve_cash\n",
    "        sell_value = self.ask_price * self.shares\n",
    "        print(f\"I am selling {self.shares} of {self.symbol}\")\n",
    "       \n",
    "        reserve_cash = reserve_cash + float(sell_value)\n",
    "        \n",
    "        sell_log_entry = f\"{current_time}: Sold {self.shares} shares of {self.symbol} for {sell_value}, Available funds: {reserve_cash}\"\n",
    "\n",
    "        self.shares = 0\n",
    "\n",
    "    def print_variable(self):\n",
    "        print(f\"{self.symbol} : {self.price_history}\")\n",
    "        if self.amount_to_spend is not None:\n",
    "            print(f\"{self.symbol}: {self.amount_to_spend}\")\n",
    "    "
   ]
  },
  {
   "cell_type": "markdown",
   "id": "4f9ae267",
   "metadata": {
    "lines_to_next_cell": 2
   },
   "source": [
    "## Staging Area\n",
    "    Sets Modules\n",
    "    Sets Global variables\n",
    "    Keeps time using time_wizard()\n",
    "    logs into Robinhood using rh_login()\n",
    "    pulls buying power info from account with get_money_in_account()\n",
    "    pulls stock data from API using get_top_100()\n",
    "    stock data goes into update_stock_classes()\n",
    "    when stocks show positive sin_value, it distributes reserve cash to the stock class for calulating buying"
   ]
  },
  {
   "cell_type": "code",
   "execution_count": 13,
   "id": "e60d8c14",
   "metadata": {
    "lines_to_next_cell": 2
   },
   "outputs": [
    {
     "name": "stdout",
     "output_type": "stream",
     "text": [
      "TICK: 0 \n",
      " ----------------------------------------------------------------------------------------------------------------\n",
      "[]\n",
      "TICK: 1 \n",
      " ----------------------------------------------------------------------------------------------------------------\n",
      "[]\n",
      "TICK: 2 \n",
      " ----------------------------------------------------------------------------------------------------------------\n",
      "[]\n",
      "TICK: 3 \n",
      " ----------------------------------------------------------------------------------------------------------------\n",
      "[]\n",
      "TICK: 4 \n",
      " ----------------------------------------------------------------------------------------------------------------\n",
      "[]\n",
      "TICK: 5 \n",
      " ----------------------------------------------------------------------------------------------------------------\n",
      "[]\n",
      "TICK: 1 \n",
      " ----------------------------------------------------------------------------------------------------------------\n",
      "[]\n",
      "TICK: 2 \n",
      " ----------------------------------------------------------------------------------------------------------------\n",
      "[]\n",
      "TICK: 3 \n",
      " ----------------------------------------------------------------------------------------------------------------\n",
      "[]\n",
      "TICK: 4 \n",
      " ----------------------------------------------------------------------------------------------------------------\n",
      "[]\n",
      "TICK: 5 \n",
      " ----------------------------------------------------------------------------------------------------------------\n",
      "[]\n",
      "TICK: 1 \n",
      " ----------------------------------------------------------------------------------------------------------------\n",
      "[]\n",
      "TICK: 2 \n",
      " ----------------------------------------------------------------------------------------------------------------\n",
      "[]\n",
      "TICK: 3 \n",
      " ----------------------------------------------------------------------------------------------------------------\n",
      "[]\n",
      "TICK: 4 \n",
      " ----------------------------------------------------------------------------------------------------------------\n",
      "[]\n",
      "TICK: 5 \n",
      " ----------------------------------------------------------------------------------------------------------------\n",
      "[]\n"
     ]
    },
    {
     "ename": "KeyboardInterrupt",
     "evalue": "",
     "output_type": "error",
     "traceback": [
      "\u001b[1;31m-----------------------------------------------\u001b[0m",
      "\u001b[1;31mKeyboardInterrupt\u001b[0mTraceback (most recent call last)",
      "Cell \u001b[1;32mIn[13], line 33\u001b[0m\n\u001b[0;32m     28\u001b[0m \u001b[38;5;28;01mif\u001b[39;00m positive_sin_value \u001b[38;5;241m!=\u001b[39m []:\n\u001b[0;32m     29\u001b[0m     set_buy_ratio()\n\u001b[1;32m---> 33\u001b[0m time\u001b[38;5;241m.\u001b[39msleep(\u001b[38;5;241m5\u001b[39m)\n",
      "\u001b[1;31mKeyboardInterrupt\u001b[0m: "
     ]
    }
   ],
   "source": [
    "import os\n",
    "import robin_stocks.robinhood as rs\n",
    "from dotenv import load_dotenv\n",
    "import json\n",
    "import math\n",
    "\n",
    "#Pre-Game Actions/Values\n",
    "rh_login()\n",
    "time_count = 0\n",
    "gains_losses = {}\n",
    "stocks_list = {}\n",
    "reserve_cash = float(30000)\n",
    "positive_sin_value = []\n",
    "local_time = time.localtime()\n",
    "current_time = time.strftime(\"%H:%M:%S\", local_time)\n",
    "start_cash = float(30000)\n",
    "\n",
    "add_to_log(reserve_cash)\n",
    "\n",
    "#Main Phase\n",
    "while True: \n",
    "    print(f\"TICK: {time_count} \\n ----------------------------------------------------------------------------------------------------------------\")\n",
    "    time_count = time_wizard(time_count)\n",
    "    #get_money_in_account()\n",
    "    update_stock_classes(get_top_100())\n",
    "    \n",
    "    print(positive_sin_value)\n",
    "    if positive_sin_value != []:\n",
    "        set_buy_ratio()\n",
    "    \n",
    "        \n",
    "    \n",
    "    time.sleep(5)"
   ]
  },
  {
   "cell_type": "markdown",
   "id": "10687fc0",
   "metadata": {},
   "source": [
    "## Testing Area"
   ]
  },
  {
   "cell_type": "code",
   "execution_count": null,
   "id": "e5d2dfd4",
   "metadata": {},
   "outputs": [],
   "source": []
  },
  {
   "cell_type": "markdown",
   "id": "fddcf01d",
   "metadata": {},
   "source": [
    "##  Dictionary/List Reminders\n",
    "positive_sin_value = classes with positive sin value\n",
    "\n",
    "stocks_list (x:y), x= stock symbol, y=associated stock class\n",
    "\n",
    "stockdict, check Top_100.json"
   ]
  },
  {
   "cell_type": "markdown",
   "id": "08d179d1",
   "metadata": {},
   "source": [
    "## This to change before Release\n",
    "1. set reserve_cash to pull from the server, not be set like for testing\n",
    "        -need to choose between pulling reserve cash only once at beginning of day or possibly repulling after a successful sell to basically do a doublecheck\n",
    "        \n",
    "2.Need to set actual buy and sell methods to interact with RH\n",
    "3. update time needs to stop at 3:30pm EST\n"
   ]
  },
  {
   "cell_type": "markdown",
   "id": "1288ea9c",
   "metadata": {},
   "source": [
    "## Equation for dividing available money between available stocks\n",
    "s = personal stock sin\n",
    "a = average stock sin\n",
    "m = money in pool\n",
    "n = number of stocks with a positive sin\n",
    "\n",
    "(((s/a)*m)/n)s"
   ]
  },
  {
   "cell_type": "code",
   "execution_count": null,
   "id": "e5841ac4",
   "metadata": {},
   "outputs": [],
   "source": []
  }
 ],
 "metadata": {
  "jupytext": {
   "cell_metadata_filter": "-all",
   "main_language": "python",
   "notebook_metadata_filter": "-all"
  },
  "kernelspec": {
   "display_name": "Python 3 (ipykernel)",
   "language": "python",
   "name": "python3"
  },
  "language_info": {
   "codemirror_mode": {
    "name": "ipython",
    "version": 3
   },
   "file_extension": ".py",
   "mimetype": "text/x-python",
   "name": "python",
   "nbconvert_exporter": "python",
   "pygments_lexer": "ipython3",
   "version": "3.11.3"
  }
 },
 "nbformat": 4,
 "nbformat_minor": 5
}
